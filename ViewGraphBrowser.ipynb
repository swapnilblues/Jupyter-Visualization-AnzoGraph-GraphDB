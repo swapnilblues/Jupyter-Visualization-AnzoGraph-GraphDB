{
 "cells": [
  {
   "cell_type": "code",
   "execution_count": 1,
   "metadata": {},
   "outputs": [],
   "source": [
    "import graphBrowser as gB"
   ]
  },
  {
   "cell_type": "code",
   "execution_count": 2,
   "metadata": {},
   "outputs": [
    {
     "data": {
      "text/plain": [
       "['<https://ontologies.semanticarts.com/flights/Airport>',\n",
       " '<https://ontologies.semanticarts.com/flights/ForeignCountry>',\n",
       " '<https://ontologies.semanticarts.com/flights/City>',\n",
       " '<https://ontologies.semanticarts.com/flights/Flight>',\n",
       " '<https://ontologies.semanticarts.com/flights/DomesticCountry>',\n",
       " '<https://ontologies.semanticarts.com/flights/Country>',\n",
       " '<https://ontologies.semanticarts.com/raw_data#Carrier>']"
      ]
     },
     "execution_count": 2,
     "metadata": {},
     "output_type": "execute_result"
    }
   ],
   "source": [
    "graphName = '<airline_flight_network>'\n",
    "gB.getTypesOfNodes(graphName)\n",
    "gB.nodeTypes"
   ]
  },
  {
   "cell_type": "code",
   "execution_count": 3,
   "metadata": {},
   "outputs": [
    {
     "data": {
      "text/plain": [
       "{'<https://ontologies.semanticarts.com/flights/Airport>': '#58FAF4',\n",
       " '<https://ontologies.semanticarts.com/flights/ForeignCountry>': '#d1fa58',\n",
       " '<https://ontologies.semanticarts.com/flights/City>': '#fada58',\n",
       " '<https://ontologies.semanticarts.com/flights/Flight>': '#fa589c',\n",
       " '<https://ontologies.semanticarts.com/flights/DomesticCountry>': '#dc58fa',\n",
       " '<https://ontologies.semanticarts.com/flights/Country>': '#6358fa',\n",
       " '<https://ontologies.semanticarts.com/raw_data#Carrier>': '#f7fa58'}"
      ]
     },
     "execution_count": 3,
     "metadata": {},
     "output_type": "execute_result"
    }
   ],
   "source": [
    "colors = ['#58FAF4','#d1fa58','#fada58','#fa589c','#dc58fa','#6358fa','#f7fa58']\n",
    "gB.assignColorsToNode(colors)\n",
    "gB.nodeColors    "
   ]
  },
  {
   "cell_type": "code",
   "execution_count": 4,
   "metadata": {},
   "outputs": [],
   "source": [
    "\n",
    "\n",
    "# Demo: construct creation function for airlines data\n",
    "def createConstructQuery(origin,graphName):\n",
    "    return '''PREFIX rdfs: <http://www.w3.org/2000/01/rdf-schema#>\n",
    "prefix : <https://ontologies.semanticarts.com/raw_data#>\n",
    "prefix fl: <https://ontologies.semanticarts.com/flights/>\n",
    "prefix owl: <http://www.w3.org/2002/07/owl#>\n",
    "prefix skos:    <http://www.w3.org/2004/02/skos/core#>\n",
    "CONSTRUCT { \n",
    "  \t?orig fl:hasRouteTo ?dest .\n",
    "  \t?orig rdfs:label ?origCode . \n",
    "  \t?dest rdfs:label ?destCode . \n",
    "  \tfl:hasRouteTo rdfs:label \"hasRouteTo\" . \n",
    "}  \n",
    "WHERE { GRAPH '''+ graphName +''' {{\n",
    "SELECT \n",
    "?orig ?dest ?origCode ?destCode ?miles \n",
    "    WHERE { \n",
    "        ?orig fl:terminalCode ?origCode .\n",
    "        ?orig fl:hasRouteTo ?dest .\n",
    "        ?dest fl:terminalCode ?destCode .\n",
    "        << ?orig fl:hasRouteTo ?dest >> fl:distanceMiles ?miles .\n",
    "        FILTER (?miles < 400)\n",
    "        FILTER (?origCode = \\'''' + origin + '''\\')\n",
    "  }\n",
    "      }}}\n",
    "'''\n",
    "\n",
    "\n",
    "construct = createConstructQuery('BOS',graphName)\n",
    "elements = gB.createGraph(construct,'BOS')"
   ]
  },
  {
   "cell_type": "code",
   "execution_count": 5,
   "metadata": {},
   "outputs": [
    {
     "data": {
      "text/html": [
       "\n",
       "        <iframe\n",
       "            width=\"100%\"\n",
       "            height=\"650\"\n",
       "            src=\"http://localhost:8198/\"\n",
       "            frameborder=\"0\"\n",
       "            allowfullscreen\n",
       "        ></iframe>\n",
       "        "
      ],
      "text/plain": [
       "<IPython.lib.display.IFrame at 0x119e15190>"
      ]
     },
     "metadata": {},
     "output_type": "display_data"
    },
    {
     "name": "stdout",
     "output_type": "stream",
     "text": [
      "App running on http://localhost:8198/\n"
     ]
    }
   ],
   "source": [
    "\n",
    "from jupyter_dash import JupyterDash\n",
    "from dash.dependencies import Input, Output, State\n",
    "\n",
    "app = JupyterDash(__name__)\n",
    "\n",
    "app.layout = gB.getAppLayout(elements)\n",
    "\n",
    "\n",
    "##########CALLBACKS##########\n",
    "@app.callback(Output('cytoscape-tapNodeData-output', 'children'),\n",
    "              [Input('cytoscape-update-layout', 'tapNodeData')])\n",
    "def displayTapNodeData(data):\n",
    "    return gB.displayTapNodeData(data)\n",
    "\n",
    "\n",
    "@app.callback(Output('cytoscape-tapEdgeData-output', 'children'),\n",
    "              [Input('cytoscape-update-layout', 'tapEdgeData')]\n",
    "             )\n",
    "def displayTapEdgeData(data):\n",
    "    return gB.displayTapEdgeData(data)\n",
    "    \n",
    "@app.callback(Output('cytoscape-update-layout', 'layout'),\n",
    "              [Input('dropdown-update-layout', 'value')])\n",
    "def update_layout(layout):\n",
    "    return gB.update_layout(layout)\n",
    "\n",
    "#expand node by neighbors\n",
    "@app.callback(Output('cytoscape-update-layout', 'elements'),\n",
    "              [Input('cytoscape-update-layout', 'tapNodeData')],\n",
    "              [State('cytoscape-update-layout', 'elements')],\n",
    "              [State('radio-option', 'value')]\n",
    "             )\n",
    "def generate_elements(data,e,options):\n",
    "    return gB.generate_elements(data,e,options, graphName)\n",
    "  \n",
    "            \n",
    "port = '8198'\n",
    "host = 'localhost'\n",
    "\n",
    "app.run_server(mode='inline',port = port, host = host)\n",
    "\n",
    "print('App running on http://'+ host +':' + port +'/')"
   ]
  },
  {
   "cell_type": "code",
   "execution_count": 6,
   "metadata": {
    "scrolled": false
   },
   "outputs": [
    {
     "data": {
      "text/plain": [
       "[{'data': {'id': '<https://data.semanticarts.com/flights/_Airport_PHL>',\n",
       "   'label': 'PHL',\n",
       "   'expanded': False,\n",
       "   'source': 'BOS',\n",
       "   'color': '#58FAF4'}},\n",
       " {'data': {'id': '<https://data.semanticarts.com/flights/_Airport_BOS>',\n",
       "   'label': 'BOS',\n",
       "   'expanded': False,\n",
       "   'source': 'BOS',\n",
       "   'color': '#58FAF4'}},\n",
       " {'data': {'id': '<https://data.semanticarts.com/flights/_Airport_LGA>',\n",
       "   'label': 'LGA',\n",
       "   'expanded': False,\n",
       "   'source': 'BOS',\n",
       "   'color': '#58FAF4'}},\n",
       " {'data': {'id': '<https://data.semanticarts.com/flights/_Airport_EWR>',\n",
       "   'label': 'EWR',\n",
       "   'expanded': False,\n",
       "   'source': 'BOS',\n",
       "   'color': '#58FAF4'}},\n",
       " {'data': {'id': '<https://data.semanticarts.com/flights/_Airport_BWI>',\n",
       "   'label': 'BWI',\n",
       "   'expanded': False,\n",
       "   'source': 'BOS',\n",
       "   'color': '#58FAF4'}},\n",
       " {'data': {'id': '<https://data.semanticarts.com/flights/_Airport_DCA>',\n",
       "   'label': 'DCA',\n",
       "   'expanded': False,\n",
       "   'source': 'BOS',\n",
       "   'color': '#58FAF4'}},\n",
       " {'data': {'id': '<https://data.semanticarts.com/flights/_Airport_ACK>',\n",
       "   'label': 'ACK',\n",
       "   'expanded': False,\n",
       "   'source': 'BOS',\n",
       "   'color': '#58FAF4'}},\n",
       " {'data': {'id': '<https://data.semanticarts.com/flights/_Airport_JFK>',\n",
       "   'label': 'JFK',\n",
       "   'expanded': False,\n",
       "   'source': 'BOS',\n",
       "   'color': '#58FAF4'}},\n",
       " {'data': {'id': '<https://data.semanticarts.com/flights/_Airport_MVY>',\n",
       "   'label': 'MVY',\n",
       "   'expanded': False,\n",
       "   'source': 'BOS',\n",
       "   'color': '#58FAF4'}},\n",
       " {'data': {'id': '<https://data.semanticarts.com/flights/_Airport_ACY>',\n",
       "   'label': 'ACY',\n",
       "   'expanded': False,\n",
       "   'source': 'BOS',\n",
       "   'color': '#58FAF4'}},\n",
       " {'data': {'id': '<https://data.semanticarts.com/flights/_Airport_BUF>',\n",
       "   'label': 'BUF',\n",
       "   'expanded': False,\n",
       "   'source': 'BOS',\n",
       "   'color': '#58FAF4'}},\n",
       " {'data': {'source': '<https://data.semanticarts.com/flights/_Airport_BOS>',\n",
       "   'target': '<https://data.semanticarts.com/flights/_Airport_BWI>',\n",
       "   'label': '<https://ontologies.semanticarts.com/flights/hasRouteTo>',\n",
       "   'labelLabel': 'hasRouteTo',\n",
       "   'sourceLabel': 'BOS',\n",
       "   'targetLabel': 'BWI'}},\n",
       " {'data': {'source': '<https://data.semanticarts.com/flights/_Airport_BOS>',\n",
       "   'target': '<https://data.semanticarts.com/flights/_Airport_DCA>',\n",
       "   'label': '<https://ontologies.semanticarts.com/flights/hasRouteTo>',\n",
       "   'labelLabel': 'hasRouteTo',\n",
       "   'sourceLabel': 'BOS',\n",
       "   'targetLabel': 'DCA'}},\n",
       " {'data': {'source': '<https://data.semanticarts.com/flights/_Airport_BOS>',\n",
       "   'target': '<https://data.semanticarts.com/flights/_Airport_ACY>',\n",
       "   'label': '<https://ontologies.semanticarts.com/flights/hasRouteTo>',\n",
       "   'labelLabel': 'hasRouteTo',\n",
       "   'sourceLabel': 'BOS',\n",
       "   'targetLabel': 'ACY'}},\n",
       " {'data': {'source': '<https://data.semanticarts.com/flights/_Airport_BOS>',\n",
       "   'target': '<https://data.semanticarts.com/flights/_Airport_EWR>',\n",
       "   'label': '<https://ontologies.semanticarts.com/flights/hasRouteTo>',\n",
       "   'labelLabel': 'hasRouteTo',\n",
       "   'sourceLabel': 'BOS',\n",
       "   'targetLabel': 'EWR'}},\n",
       " {'data': {'source': '<https://data.semanticarts.com/flights/_Airport_BOS>',\n",
       "   'target': '<https://data.semanticarts.com/flights/_Airport_PHL>',\n",
       "   'label': '<https://ontologies.semanticarts.com/flights/hasRouteTo>',\n",
       "   'labelLabel': 'hasRouteTo',\n",
       "   'sourceLabel': 'BOS',\n",
       "   'targetLabel': 'PHL'}},\n",
       " {'data': {'source': '<https://data.semanticarts.com/flights/_Airport_BOS>',\n",
       "   'target': '<https://data.semanticarts.com/flights/_Airport_ACK>',\n",
       "   'label': '<https://ontologies.semanticarts.com/flights/hasRouteTo>',\n",
       "   'labelLabel': 'hasRouteTo',\n",
       "   'sourceLabel': 'BOS',\n",
       "   'targetLabel': 'ACK'}},\n",
       " {'data': {'source': '<https://data.semanticarts.com/flights/_Airport_BOS>',\n",
       "   'target': '<https://data.semanticarts.com/flights/_Airport_LGA>',\n",
       "   'label': '<https://ontologies.semanticarts.com/flights/hasRouteTo>',\n",
       "   'labelLabel': 'hasRouteTo',\n",
       "   'sourceLabel': 'BOS',\n",
       "   'targetLabel': 'LGA'}},\n",
       " {'data': {'source': '<https://data.semanticarts.com/flights/_Airport_BOS>',\n",
       "   'target': '<https://data.semanticarts.com/flights/_Airport_JFK>',\n",
       "   'label': '<https://ontologies.semanticarts.com/flights/hasRouteTo>',\n",
       "   'labelLabel': 'hasRouteTo',\n",
       "   'sourceLabel': 'BOS',\n",
       "   'targetLabel': 'JFK'}},\n",
       " {'data': {'source': '<https://data.semanticarts.com/flights/_Airport_BOS>',\n",
       "   'target': '<https://data.semanticarts.com/flights/_Airport_MVY>',\n",
       "   'label': '<https://ontologies.semanticarts.com/flights/hasRouteTo>',\n",
       "   'labelLabel': 'hasRouteTo',\n",
       "   'sourceLabel': 'BOS',\n",
       "   'targetLabel': 'MVY'}},\n",
       " {'data': {'source': '<https://data.semanticarts.com/flights/_Airport_BOS>',\n",
       "   'target': '<https://data.semanticarts.com/flights/_Airport_BUF>',\n",
       "   'label': '<https://ontologies.semanticarts.com/flights/hasRouteTo>',\n",
       "   'labelLabel': 'hasRouteTo',\n",
       "   'sourceLabel': 'BOS',\n",
       "   'targetLabel': 'BUF'}}]"
      ]
     },
     "execution_count": 6,
     "metadata": {},
     "output_type": "execute_result"
    }
   ],
   "source": [
    "elements"
   ]
  },
  {
   "cell_type": "code",
   "execution_count": 7,
   "metadata": {},
   "outputs": [],
   "source": [
    "graphName = '<airline_flight_network>'\n",
    "\n",
    "# Demo: construct creation function for airlines data\n",
    "def createConstructQuery(origin,graphName):\n",
    "    return '''PREFIX rdfs: <http://www.w3.org/2000/01/rdf-schema#>\n",
    "prefix : <https://ontologies.semanticarts.com/raw_data#>\n",
    "prefix fl: <https://ontologies.semanticarts.com/flights/>\n",
    "prefix owl: <http://www.w3.org/2002/07/owl#>\n",
    "prefix skos:    <http://www.w3.org/2004/02/skos/core#>\n",
    "CONSTRUCT { \n",
    "  \t?orig fl:hasRouteTo ?dest .\n",
    "  \t?orig rdfs:label ?origCode . \n",
    "  \t?dest rdfs:label ?destCode . \n",
    "  \tfl:hasRouteTo rdfs:label \"hasRouteTo\" . \n",
    "}  \n",
    "WHERE { GRAPH '''+ graphName +''' {{\n",
    "SELECT \n",
    "?orig ?dest ?origCode ?destCode ?miles \n",
    "    WHERE { \n",
    "        ?orig fl:terminalCode ?origCode .\n",
    "        ?orig fl:hasRouteTo ?dest .\n",
    "        ?dest fl:terminalCode ?destCode .\n",
    "        << ?orig fl:hasRouteTo ?dest >> fl:distanceMiles ?miles .\n",
    "        FILTER (?miles < 400)\n",
    "        FILTER (?origCode = \\'''' + origin + '''\\')\n",
    "  }\n",
    "      }}}\n",
    "'''\n",
    "\n",
    "\n",
    "construct = createConstructQuery('BOS',graphName)\n",
    "elements = gB.createGraph(construct,'BOS')"
   ]
  },
  {
   "cell_type": "code",
   "execution_count": 8,
   "metadata": {},
   "outputs": [
    {
     "data": {
      "text/plain": [
       "{'<https://ontologies.semanticarts.com/flights/Airport>': '#58FAF4',\n",
       " '<https://ontologies.semanticarts.com/flights/ForeignCountry>': '#d1fa58',\n",
       " '<https://ontologies.semanticarts.com/flights/City>': '#fada58',\n",
       " '<https://ontologies.semanticarts.com/flights/Flight>': '#fa589c',\n",
       " '<https://ontologies.semanticarts.com/flights/DomesticCountry>': '#dc58fa',\n",
       " '<https://ontologies.semanticarts.com/flights/Country>': '#6358fa',\n",
       " '<https://ontologies.semanticarts.com/raw_data#Carrier>': '#f7fa58'}"
      ]
     },
     "execution_count": 8,
     "metadata": {},
     "output_type": "execute_result"
    }
   ],
   "source": [
    "gB.nodeColors"
   ]
  },
  {
   "cell_type": "code",
   "execution_count": null,
   "metadata": {},
   "outputs": [],
   "source": []
  },
  {
   "cell_type": "code",
   "execution_count": null,
   "metadata": {},
   "outputs": [],
   "source": []
  }
 ],
 "metadata": {
  "kernelspec": {
   "display_name": "Python 3",
   "language": "python",
   "name": "python3"
  },
  "language_info": {
   "codemirror_mode": {
    "name": "ipython",
    "version": 3
   },
   "file_extension": ".py",
   "mimetype": "text/x-python",
   "name": "python",
   "nbconvert_exporter": "python",
   "pygments_lexer": "ipython3",
   "version": "3.8.3"
  }
 },
 "nbformat": 4,
 "nbformat_minor": 4
}
