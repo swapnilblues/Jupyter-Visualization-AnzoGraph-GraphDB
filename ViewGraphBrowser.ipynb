{
 "cells": [
  {
   "cell_type": "code",
   "execution_count": 1,
   "metadata": {},
   "outputs": [],
   "source": [
    "import graphBrowser as gB"
   ]
  },
  {
   "cell_type": "code",
   "execution_count": 2,
   "metadata": {},
   "outputs": [
    {
     "data": {
      "text/plain": [
       "['<https://ontologies.semanticarts.com/flights/Flight>',\n",
       " '<https://ontologies.semanticarts.com/flights/DomesticCountry>',\n",
       " '<https://ontologies.semanticarts.com/flights/Country>',\n",
       " '<https://ontologies.semanticarts.com/raw_data#Carrier>',\n",
       " '<https://ontologies.semanticarts.com/flights/ForeignCountry>',\n",
       " '<https://ontologies.semanticarts.com/flights/Airport>',\n",
       " '<https://ontologies.semanticarts.com/flights/City>']"
      ]
     },
     "execution_count": 2,
     "metadata": {},
     "output_type": "execute_result"
    }
   ],
   "source": [
    "graphName = '<airline_flight_network>'\n",
    "gB.getTypesOfNodes(graphName)\n",
    "gB.nodeTypes"
   ]
  },
  {
   "cell_type": "code",
   "execution_count": 3,
   "metadata": {},
   "outputs": [
    {
     "data": {
      "text/plain": [
       "{'<https://ontologies.semanticarts.com/flights/Country>': '#fa589c',\n",
       " '<https://ontologies.semanticarts.com/raw_data#Carrier>': '#d1fa58',\n",
       " '<https://ontologies.semanticarts.com/flights/City>': '#fada58',\n",
       " '<https://ontologies.semanticarts.com/flights/Airport>': '#58FAF4',\n",
       " '<https://ontologies.semanticarts.com/flights/ForeignCountry>': '#dc58fa',\n",
       " '<https://ontologies.semanticarts.com/flights/DomesticCountry>': '#6358fa',\n",
       " '<https://ontologies.semanticarts.com/flights/Flight>': '#f7fa58'}"
      ]
     },
     "execution_count": 3,
     "metadata": {},
     "output_type": "execute_result"
    }
   ],
   "source": [
    "colors = ['#58FAF4','#d1fa58','#fada58','#fa589c','#dc58fa','#6358fa','#f7fa58']\n",
    "colorCode = {\n",
    "    '<https://ontologies.semanticarts.com/flights/Country>': '#fa589c',\n",
    "    '<https://ontologies.semanticarts.com/raw_data#Carrier>': '#d1fa58',\n",
    "    '<https://ontologies.semanticarts.com/flights/City>': '#fada58',\n",
    "    '<https://ontologies.semanticarts.com/flights/Airport>': '#58FAF4',\n",
    "    '<https://ontologies.semanticarts.com/flights/ForeignCountry>': '#dc58fa',\n",
    "    '<https://ontologies.semanticarts.com/flights/DomesticCountry>': '#6358fa',\n",
    "    '<https://ontologies.semanticarts.com/flights/Flight>': '#f7fa58'\n",
    "}\n",
    "gB.assignColorsToNode(colorCode)\n",
    "gB.nodeColors    "
   ]
  },
  {
   "cell_type": "code",
   "execution_count": 4,
   "metadata": {},
   "outputs": [],
   "source": [
    "\n",
    "\n",
    "# Demo: construct creation function for airlines data\n",
    "def createConstructQuery(origin,graphName):\n",
    "    return '''PREFIX rdfs: <http://www.w3.org/2000/01/rdf-schema#>\n",
    "prefix : <https://ontologies.semanticarts.com/raw_data#>\n",
    "prefix fl: <https://ontologies.semanticarts.com/flights/>\n",
    "prefix owl: <http://www.w3.org/2002/07/owl#>\n",
    "prefix skos:    <http://www.w3.org/2004/02/skos/core#>\n",
    "CONSTRUCT { \n",
    "  \t?orig fl:hasRouteTo ?dest .\n",
    "  \t?orig rdfs:label ?origCode . \n",
    "  \t?dest rdfs:label ?destCode . \n",
    "  \tfl:hasRouteTo rdfs:label \"hasRouteTo\" . \n",
    "}  \n",
    "WHERE { GRAPH '''+ graphName +''' {{\n",
    "SELECT \n",
    "?orig ?dest ?origCode ?destCode ?miles \n",
    "    WHERE { \n",
    "        ?orig fl:terminalCode ?origCode .\n",
    "        ?orig fl:hasRouteTo ?dest .\n",
    "        ?dest fl:terminalCode ?destCode .\n",
    "        << ?orig fl:hasRouteTo ?dest >> fl:distanceMiles ?miles .\n",
    "        FILTER (?miles < 400)\n",
    "        FILTER (?origCode = \\'''' + origin + '''\\')\n",
    "  }\n",
    "      }}}\n",
    "'''\n",
    "\n",
    "\n",
    "construct = createConstructQuery('BOS',graphName)\n",
    "elements = gB.createGraph(construct,'BOS')"
   ]
  },
  {
   "cell_type": "code",
   "execution_count": null,
   "metadata": {},
   "outputs": [],
   "source": [
    "\n",
    "from jupyter_dash import JupyterDash\n",
    "from dash.dependencies import Input, Output, State\n",
    "\n",
    "app = JupyterDash(__name__)\n",
    "\n",
    "app.layout = gB.getAppLayout(elements)\n",
    "\n",
    "\n",
    "##########CALLBACKS##########\n",
    "@app.callback(Output('cytoscape-tapNodeData-output', 'children'),\n",
    "              [Input('cytoscape-update-layout', 'tapNodeData')])\n",
    "def displayTapNodeData(data):\n",
    "    return gB.displayTapNodeData(data)\n",
    "\n",
    "\n",
    "@app.callback(Output('cytoscape-tapEdgeData-output', 'children'),\n",
    "              [Input('cytoscape-update-layout', 'tapEdgeData')]\n",
    "             )\n",
    "def displayTapEdgeData(data):\n",
    "    return gB.displayTapEdgeData(data)\n",
    "    \n",
    "@app.callback(Output('cytoscape-update-layout', 'layout'),\n",
    "              [Input('dropdown-update-layout', 'value')])\n",
    "def update_layout(layout):\n",
    "    return gB.update_layout(layout)\n",
    "\n",
    "#expand node by neighbors\n",
    "@app.callback(Output('cytoscape-update-layout', 'elements'),\n",
    "              [Input('cytoscape-update-layout', 'tapNodeData')],\n",
    "              [State('cytoscape-update-layout', 'elements')],\n",
    "              [State('radio-option', 'value')]\n",
    "             )\n",
    "def generate_elements(data,e,options):\n",
    "    return gB.generate_elements(data,e,options, graphName)\n",
    "  \n",
    "            \n",
    "port = '8198'\n",
    "host = 'localhost'\n",
    "\n",
    "app.run_server(mode='inline',port = port, host = host)\n",
    "\n",
    "print('App running on http://'+ host +':' + port +'/')"
   ]
  },
  {
   "cell_type": "code",
   "execution_count": null,
   "metadata": {},
   "outputs": [],
   "source": [
    "elements"
   ]
  },
  {
   "cell_type": "code",
   "execution_count": null,
   "metadata": {},
   "outputs": [],
   "source": []
  }
 ],
 "metadata": {
  "kernelspec": {
   "display_name": "Python 3",
   "language": "python",
   "name": "python3"
  },
  "language_info": {
   "codemirror_mode": {
    "name": "ipython",
    "version": 3
   },
   "file_extension": ".py",
   "mimetype": "text/x-python",
   "name": "python",
   "nbconvert_exporter": "python",
   "pygments_lexer": "ipython3",
   "version": "3.8.3"
  }
 },
 "nbformat": 4,
 "nbformat_minor": 4
}
