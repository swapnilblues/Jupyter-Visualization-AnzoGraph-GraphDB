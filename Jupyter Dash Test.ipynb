{
 "cells": [
  {
   "cell_type": "code",
   "execution_count": 3,
   "metadata": {},
   "outputs": [
    {
     "data": {
      "text/html": [
       "\n",
       "        <iframe\n",
       "            width=\"100%\"\n",
       "            height=\"650\"\n",
       "            src=\"http://127.0.0.1:8085/\"\n",
       "            frameborder=\"0\"\n",
       "            allowfullscreen\n",
       "        ></iframe>\n",
       "        "
      ],
      "text/plain": [
       "<IPython.lib.display.IFrame at 0x112abdee0>"
      ]
     },
     "metadata": {},
     "output_type": "display_data"
    }
   ],
   "source": [
    "import dash\n",
    "from jupyter_dash import JupyterDash\n",
    "import dash_core_components as dcc\n",
    "import dash_html_components as html\n",
    "from dash.dependencies import Input, Output\n",
    "\n",
    "# external_stylesheets = ['https://codepen.io/chriddyp/pen/bWLwgP.css']\n",
    "\n",
    "app = JupyterDash(__name__)\n",
    "\n",
    "app.layout = html.Div([\n",
    "    html.H6(\"Change the value in the text box to see callbacks in action!\"),\n",
    "    html.Div([\"Input: \",\n",
    "              dcc.Input(id='my-input', value='initial value', type='text')]),\n",
    "    html.Br(),\n",
    "    html.Div(id='my-output'),\n",
    "\n",
    "])\n",
    "\n",
    "\n",
    "@app.callback(\n",
    "    Output(component_id='my-output', component_property='children'),\n",
    "    [Input(component_id='my-input', component_property='value')]\n",
    ")\n",
    "def update_output_div(input_value):\n",
    "    return 'Output: {}'.format(input_value)\n",
    "\n",
    "\n",
    "\n",
    "\n",
    "app.run_server(mode='inline', port='8085', host='127.0.0.1')"
   ]
  },
  {
   "cell_type": "code",
   "execution_count": null,
   "metadata": {},
   "outputs": [],
   "source": [
    "app.run_server(mode='external')"
   ]
  },
  {
   "cell_type": "code",
   "execution_count": null,
   "metadata": {},
   "outputs": [],
   "source": [
    "edges1 = [\n",
    "    {'data': {'source': 'van', 'target': 'la', 'label' : 'ABCD'}}\n",
    "    \n",
    "]"
   ]
  },
  {
   "cell_type": "code",
   "execution_count": null,
   "metadata": {},
   "outputs": [],
   "source": [
    "import dash\n",
    "from jupyter_dash import JupyterDash\n",
    "import dash_cytoscape as cyto\n",
    "import dash_html_components as html\n",
    "import dash_core_components as dcc\n",
    "from dash.dependencies import Input, Output\n",
    "\n",
    "app = JupyterDash(__name__)\n",
    "\n",
    "\n",
    "nodes = [\n",
    "    {\n",
    "        'data': {'id': short, 'label': label}\n",
    "#         ,\n",
    "#         'position': {'x': 20*lat, 'y': -20*long}\n",
    "    }\n",
    "    for short, label in (\n",
    "        ('la', 'Los Angeles'),\n",
    "        ('nyc', 'New York'),\n",
    "        ('to', 'Toronto'),\n",
    "        ('mtl', 'Montreal'),\n",
    "        ('van', 'Vancouver'),\n",
    "        ('chi', 'Chicago'),\n",
    "        ('bos', 'Boston'),\n",
    "        ('hou', 'Houston'),\n",
    "        ('aus','Austin'),\n",
    "        ('dal','Dallas')\n",
    "    )\n",
    "]\n",
    "\n",
    "edges = [\n",
    "    {'data': {'source': source, 'target': target},\n",
    "        'style': {'label': 'Has Connection To'}\n",
    "    }\n",
    "    for source, target in (\n",
    "        ('van', 'la'),\n",
    "        ('la', 'chi'),\n",
    "        ('hou', 'chi'),\n",
    "        ('to', 'mtl'),\n",
    "        ('mtl', 'bos'),\n",
    "        ('nyc', 'bos'),\n",
    "        ('to', 'hou'),\n",
    "        ('to', 'nyc'),\n",
    "        ('la', 'nyc'),\n",
    "        ('nyc', 'bos'),\n",
    "        ('dal','aus')\n",
    "    )\n",
    "]\n",
    "\n",
    "elements = nodes + edges\n",
    "\n",
    "\n",
    "app.layout = html.Div([\n",
    "    dcc.Dropdown(\n",
    "        id='dropdown-update-layout',\n",
    "        value='grid',\n",
    "        clearable=False,\n",
    "        options=[\n",
    "            {'label': name.capitalize(), 'value': name}\n",
    "            for name in ['grid', 'random', 'circle', 'cose', 'concentric']\n",
    "        ]\n",
    "    ),\n",
    "    cyto.Cytoscape(\n",
    "        id='cytoscape-update-layout',\n",
    "        layout={'name': 'grid'},\n",
    "        style={'width': '100%', 'height': '450px'},\n",
    "        elements=elements\n",
    "    )\n",
    "])\n",
    "\n",
    "\n",
    "@app.callback(Output('cytoscape-update-layout', 'layout'),\n",
    "              [Input('dropdown-update-layout', 'value')])\n",
    "def update_layout(layout):\n",
    "    return {\n",
    "        'name': layout,\n",
    "        'animate': True\n",
    "    }\n",
    "\n",
    "\n",
    "port = '8085'\n",
    "host = '127.0.0.1'\n",
    "\n",
    "app.run_server(mode='inline',port = port, host = host)\n",
    "\n",
    "print('App running on http://'+ host +':' + port +'/')"
   ]
  },
  {
   "cell_type": "code",
   "execution_count": null,
   "metadata": {},
   "outputs": [],
   "source": [
    "nodes"
   ]
  },
  {
   "cell_type": "code",
   "execution_count": null,
   "metadata": {},
   "outputs": [],
   "source": [
    "edges"
   ]
  },
  {
   "cell_type": "code",
   "execution_count": 9,
   "metadata": {},
   "outputs": [
    {
     "data": {
      "text/html": [
       "\n",
       "        <iframe\n",
       "            width=\"100%\"\n",
       "            height=\"650\"\n",
       "            src=\"http://127.0.0.1:8085/\"\n",
       "            frameborder=\"0\"\n",
       "            allowfullscreen\n",
       "        ></iframe>\n",
       "        "
      ],
      "text/plain": [
       "<IPython.lib.display.IFrame at 0x109839fa0>"
      ]
     },
     "metadata": {},
     "output_type": "display_data"
    }
   ],
   "source": [
    "import dash\n",
    "from jupyter_dash import JupyterDash\n",
    "import dash_cytoscape as cyto\n",
    "import dash_html_components as html\n",
    "import dash_core_components as dcc\n",
    "from dash.dependencies import Input, Output\n",
    "\n",
    "app = JupyterDash(__name__)\n",
    "app.layout = html.Div([\n",
    "    cyto.Cytoscape(\n",
    "    id='cytoscape-elements-basic',\n",
    "    layout={'name': 'preset'},\n",
    "    style={'width': '100%', 'height': '400px'},\n",
    "    elements=[\n",
    "        # The nodes elements\n",
    "        {'data': {'id': 'one', 'label': 'Node 1'},\n",
    "         'position': {'x': 50, 'y': 50},\n",
    "          'classes': 'red'\n",
    "        },\n",
    "        {'data': {'id': 'two', 'label': 'Node 2'},\n",
    "         'position': {'x': 200, 'y': 200},\n",
    "          'classes': 'red'\n",
    "        },\n",
    "\n",
    "        # The edge elements\n",
    "        {'data': {'source': 'one', 'target': 'two'},\n",
    "         'style': {'label': 'ABCD'}\n",
    "        }\n",
    "    ],\n",
    "    stylesheet = [\n",
    "        {\n",
    "            'selector': '.red',\n",
    "            'style': {\n",
    "                'background-color': 'red' \n",
    "#                 ,\n",
    "#                 'line-color': 'red'\n",
    "            }\n",
    "        }\n",
    "    ]    \n",
    ")\n",
    "])\n",
    "\n",
    "app.run_server(mode='inline',port = '8085', host = '127.0.0.1')"
   ]
  },
  {
   "cell_type": "code",
   "execution_count": null,
   "metadata": {},
   "outputs": [],
   "source": []
  }
 ],
 "metadata": {
  "kernelspec": {
   "display_name": "Python 3",
   "language": "python",
   "name": "python3"
  },
  "language_info": {
   "codemirror_mode": {
    "name": "ipython",
    "version": 3
   },
   "file_extension": ".py",
   "mimetype": "text/x-python",
   "name": "python",
   "nbconvert_exporter": "python",
   "pygments_lexer": "ipython3",
   "version": "3.8.3"
  }
 },
 "nbformat": 4,
 "nbformat_minor": 4
}
