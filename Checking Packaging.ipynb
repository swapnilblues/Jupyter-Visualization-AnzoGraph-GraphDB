{
 "cells": [
  {
   "cell_type": "code",
   "execution_count": 1,
   "metadata": {},
   "outputs": [],
   "source": [
    "import graphBrowser as gB"
   ]
  },
  {
   "cell_type": "code",
   "execution_count": 2,
   "metadata": {},
   "outputs": [
    {
     "data": {
      "text/plain": [
       "{}"
      ]
     },
     "execution_count": 2,
     "metadata": {},
     "output_type": "execute_result"
    }
   ],
   "source": [
    "gB.labelDict"
   ]
  },
  {
   "cell_type": "code",
   "execution_count": 3,
   "metadata": {},
   "outputs": [],
   "source": [
    "construct = gB.createAirportQuery('BOS')\n",
    "elements = gB.createGraph('BOS')"
   ]
  },
  {
   "cell_type": "code",
   "execution_count": 5,
   "metadata": {},
   "outputs": [
    {
     "data": {
      "text/html": [
       "\n",
       "        <iframe\n",
       "            width=\"100%\"\n",
       "            height=\"650\"\n",
       "            src=\"http://127.0.0.1:8098/\"\n",
       "            frameborder=\"0\"\n",
       "            allowfullscreen\n",
       "        ></iframe>\n",
       "        "
      ],
      "text/plain": [
       "<IPython.lib.display.IFrame at 0x1269abc40>"
      ]
     },
     "metadata": {},
     "output_type": "display_data"
    },
    {
     "name": "stdout",
     "output_type": "stream",
     "text": [
      "AA\n",
      "AA\n",
      "Data False\n",
      "AA\n",
      "Data False\n"
     ]
    }
   ],
   "source": [
    "import json\n",
    "from jupyter_dash import JupyterDash\n",
    "import dash_cytoscape as cyto\n",
    "import dash_html_components as html\n",
    "import dash_core_components as dcc\n",
    "from dash.dependencies import Input, Output, State\n",
    "from demos import dash_reusable_components as drc\n",
    "\n",
    "app = JupyterDash(__name__)\n",
    "\n",
    "app.layout = html.Div([\n",
    "     \n",
    "    html.Div(className='a',children = [\n",
    "    dcc.Dropdown(\n",
    "        id='dropdown-update-layout',\n",
    "        value='circle',\n",
    "        clearable=False,\n",
    "        options=[\n",
    "            {'label': name.capitalize(), 'value': name}\n",
    "            for name in ['grid', 'random', 'circle', 'cose', 'concentric']\n",
    "        ]\n",
    "    )]),\n",
    "    drc.NamedRadioItems(\n",
    "                    name='Select',\n",
    "                    id='radio-option',\n",
    "                    options=drc.DropdownOptionsList(\n",
    "                        'Show Neighbors'\n",
    "#                         ,\n",
    "#                         'Hide Neighbors'\n",
    "                    ),\n",
    "                    value='Show Neighbors'\n",
    "                ),\n",
    "\n",
    "    html.Div(className='b',children = [\n",
    "    cyto.Cytoscape(\n",
    "        id='cytoscape-update-layout',\n",
    "        layout={'name': 'circle'},\n",
    "        style={'width': '100%', 'height': '70vh'},\n",
    "        elements=elements,\n",
    "        stylesheet = [\n",
    "            {\n",
    "            'selector': 'node',\n",
    "            'style': {\n",
    "                'content': 'data(label)',\n",
    "                'background-color': '#58FAF4',\n",
    "                }\n",
    "            },\n",
    "            {\n",
    "            'selector': 'edge',\n",
    "            'style': {\n",
    "                'content': 'data(labelLabel)',\n",
    "                'curve-style': 'bezier',\n",
    "                'target-arrow-color': 'black',\n",
    "                'target-arrow-shape': 'triangle',\n",
    "                'line-color': 'black'\n",
    "                }\n",
    "            }\n",
    "        ]\n",
    "    )]),\n",
    "    html.P(id='cytoscape-tapNodeData-output'),\n",
    "    html.P(id='cytoscape-tapEdgeData-output')\n",
    "])\n",
    "\n",
    "\n",
    "##########CALLBACKS##########\n",
    "@app.callback(Output('cytoscape-tapNodeData-output', 'children'),\n",
    "              [Input('cytoscape-update-layout', 'tapNodeData')])\n",
    "def displayTapNodeData(data):\n",
    "#     print('HH')\n",
    "    if data:\n",
    "        return \"Airport selected: \" + data['id']\n",
    "\n",
    "\n",
    "@app.callback(Output('cytoscape-tapEdgeData-output', 'children'),\n",
    "              [Input('cytoscape-update-layout', 'tapEdgeData')]\n",
    "             )\n",
    "def displayTapEdgeData(data):\n",
    "    if data:\n",
    "        return \"Connection between \" + data['source'].upper() + \" and \" + data['target'].upper() + \" with edge value: \" + data['label']\n",
    "\n",
    "    \n",
    "@app.callback(Output('cytoscape-update-layout', 'layout'),\n",
    "              [Input('dropdown-update-layout', 'value')])\n",
    "def update_layout(layout):\n",
    "    return {\n",
    "        'name': layout,\n",
    "        'animate': True\n",
    "    }\n",
    "\n",
    "#expand node by neighbors\n",
    "@app.callback(Output('cytoscape-update-layout', 'elements'),\n",
    "              [Input('cytoscape-update-layout', 'tapNodeData')],\n",
    "              [State('cytoscape-update-layout', 'elements')],\n",
    "              [State('radio-option', 'value')]\n",
    "             )\n",
    "def generate_elements(data,e,options):\n",
    "#     print(\"abcd\",data)\n",
    "#     print(\"Radio Options\",options)\n",
    "    \n",
    "    print(\"AA\")\n",
    "    if not data:\n",
    "        return e\n",
    "    \n",
    "    print(\"Data\",data['expanded'])\n",
    "    nodeURI = data['id']\n",
    "    if options == \"Show Neighbors\":\n",
    "        \n",
    "        if data['expanded'] == True:\n",
    "            print(\"1\")\n",
    "            return e\n",
    "    \n",
    "#     print(\"Label\",data)\n",
    "    \n",
    "        if data and e:\n",
    "        \n",
    "            #changing extended to True for the node\n",
    "            for element in e:\n",
    "                if data['id'] == element.get('data').get('id'):\n",
    "                    element['data']['expanded'] = True\n",
    "    #                 print(\"Curr Node\", element)\n",
    "                    break\n",
    "                \n",
    "            \n",
    "    #         print('node',nodeURI)\n",
    "    #         print(\"Label\",label)\n",
    "    #         print('Here', type(e))\n",
    "            df = gB.getNeighbours(nodeURI)\n",
    "            nodes = gB.generateNodes(df,nodeURI)\n",
    "#             print(\"Neighbors\",nodes)\n",
    "            edges = gB.generateEdges(df)\n",
    "\n",
    "            for node in nodes:\n",
    "                if node not in e:\n",
    "                    e.append(node)\n",
    "                \n",
    "            for edge in edges:\n",
    "                if edge not in e:\n",
    "                    e.append(edge)        \n",
    "                \n",
    "        return e\n",
    "    elif options == \"Hide Neighbors\":\n",
    "        \n",
    "        if data['expanded'] == False:\n",
    "            print(\"2\")\n",
    "            return e\n",
    "        return gB.removeNodes(e,nodeURI)\n",
    "\n",
    "            \n",
    "            \n",
    "port = '8098'\n",
    "host = '127.0.0.1'\n",
    "\n",
    "app.run_server(mode='inline',port = port, host = host)\n",
    "\n",
    "# print('App running on http://'+ host +':' + port +'/')"
   ]
  },
  {
   "cell_type": "code",
   "execution_count": null,
   "metadata": {},
   "outputs": [],
   "source": []
  }
 ],
 "metadata": {
  "kernelspec": {
   "display_name": "Python 3",
   "language": "python",
   "name": "python3"
  },
  "language_info": {
   "codemirror_mode": {
    "name": "ipython",
    "version": 3
   },
   "file_extension": ".py",
   "mimetype": "text/x-python",
   "name": "python",
   "nbconvert_exporter": "python",
   "pygments_lexer": "ipython3",
   "version": "3.8.3"
  }
 },
 "nbformat": 4,
 "nbformat_minor": 4
}
