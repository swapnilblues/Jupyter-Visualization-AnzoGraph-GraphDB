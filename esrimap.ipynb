{
 "cells": [
  {
   "cell_type": "code",
   "execution_count": 106,
   "metadata": {},
   "outputs": [],
   "source": [
    "from arcgis import GIS\n",
    "my_gis = GIS()\n",
    "m = my_gis.map('Florida',zoomlevel=6)\n",
    "# m.center = [39,-98]\n"
   ]
  },
  {
   "cell_type": "code",
   "execution_count": 109,
   "metadata": {},
   "outputs": [
    {
     "name": "stderr",
     "output_type": "stream",
     "text": [
      "/opt/anaconda3/lib/python3.8/site-packages/arcgis/features/feature.py:612: UserWarning: The SpatialDataFrame has been deprecated. `df` property will be removed as a future release. Use `sdf` instead.\n",
      "  warnings.warn((\"The SpatialDataFrame has been deprecated. \"\n",
      "/opt/anaconda3/lib/python3.8/site-packages/arcgis/features/feature.py:648: FutureWarning: pandas.io.json.json_normalize is deprecated, use pandas.json_normalize instead\n",
      "  df = json_normalize(attributes)\n",
      "/opt/anaconda3/lib/python3.8/site-packages/arcgis/features/_data/geodataset/geodataframe.py:221: UserWarning: SpatialDataFrame has been deprecated.  Please switch to the GeoAccessor/GeoSeriesAccessor.\n",
      "  warnings.warn(\"SpatialDataFrame has been deprecated.  Please switch to the GeoAccessor/GeoSeriesAccessor.\")\n"
     ]
    },
    {
     "data": {
      "text/plain": [
       "arcgis.features._data.geodataset.geodataframe.SpatialDataFrame"
      ]
     },
     "execution_count": 109,
     "metadata": {},
     "output_type": "execute_result"
    }
   ],
   "source": [
    "# create an anonymous connection to ArcGIS Online and get a public item\n",
    "item = GIS(verify_cert=False).content.get(\"85d0ca4ea1ca4b9abf0c51b9bd34de2e\")\n",
    "flayer = item.layers[0]\n",
    "flayer\n",
    "# Specify a SQL query and get a SpatialDataFrame object\n",
    "df = flayer.query(where=\"AGE_45_54 < 1500\").df\n",
    "\n",
    "# Visualize the top 5 records\n",
    "df.head()\n",
    "\n",
    "type(df)\n",
    "\n",
    "# df = []\n",
    "# df.append({'x':'-122.431297','y':'37.7749'})\n",
    "# df"
   ]
  },
  {
   "cell_type": "code",
   "execution_count": 105,
   "metadata": {},
   "outputs": [
    {
     "name": "stderr",
     "output_type": "stream",
     "text": [
      "/opt/anaconda3/lib/python3.8/site-packages/arcgis/features/_data/geodataset/geodataframe.py:405: FutureWarning: The pandas.datetime class is deprecated and will be removed from pandas in a future version. Import from datetime module instead.\n",
      "  pd.datetime)):\n"
     ]
    },
    {
     "data": {
      "application/vnd.jupyter.widget-view+json": {
       "model_id": "eafb72e4e2a643469ad877a82e0a3890",
       "version_major": 2,
       "version_minor": 0
      },
      "text/plain": [
       "MapView(layout=Layout(height='400px', width='100%'))"
      ]
     },
     "metadata": {},
     "output_type": "display_data"
    },
    {
     "data": {
      "text/html": [
       "<div class=\"map-static-img-preview-d46f967f-d9b3-400f-97ed-897d5cfe38af\"><img src=\"\"></img></div>"
      ],
      "text/plain": [
       "<IPython.core.display.HTML object>"
      ]
     },
     "metadata": {},
     "output_type": "display_data"
    }
   ],
   "source": [
    "df.plot(kind='map', map_widget= m)\n",
    "m"
   ]
  },
  {
   "cell_type": "code",
   "execution_count": 77,
   "metadata": {},
   "outputs": [
    {
     "data": {
      "text/plain": [
       "['FID',\n",
       " 'NAME',\n",
       " 'CLASS',\n",
       " 'ST',\n",
       " 'STFIPS',\n",
       " 'PLACEFIPS',\n",
       " 'CAPITAL',\n",
       " 'POP_CLASS',\n",
       " 'POPULATION',\n",
       " 'POP2010',\n",
       " 'WHITE',\n",
       " 'BLACK',\n",
       " 'AMERI_ES',\n",
       " 'ASIAN',\n",
       " 'HAWN_PI',\n",
       " 'HISPANIC',\n",
       " 'OTHER',\n",
       " 'MULT_RACE',\n",
       " 'MALES',\n",
       " 'FEMALES',\n",
       " 'AGE_UNDER5',\n",
       " 'AGE_5_9',\n",
       " 'AGE_10_14',\n",
       " 'AGE_15_19',\n",
       " 'AGE_20_24',\n",
       " 'AGE_25_34',\n",
       " 'AGE_35_44',\n",
       " 'AGE_45_54',\n",
       " 'AGE_55_64',\n",
       " 'AGE_65_74',\n",
       " 'AGE_75_84',\n",
       " 'AGE_85_UP',\n",
       " 'MED_AGE',\n",
       " 'MED_AGE_M',\n",
       " 'MED_AGE_F',\n",
       " 'HOUSEHOLDS',\n",
       " 'AVE_HH_SZ',\n",
       " 'HSEHLD_1_M',\n",
       " 'HSEHLD_1_F',\n",
       " 'MARHH_CHD',\n",
       " 'MARHH_NO_C',\n",
       " 'MHH_CHILD',\n",
       " 'FHH_CHILD',\n",
       " 'FAMILIES',\n",
       " 'AVE_FAM_SZ',\n",
       " 'HSE_UNITS',\n",
       " 'VACANT',\n",
       " 'OWNER_OCC',\n",
       " 'RENTER_OCC',\n",
       " 'SHAPE']"
      ]
     },
     "execution_count": 77,
     "metadata": {},
     "output_type": "execute_result"
    }
   ],
   "source": [
    "list(df.columns)"
   ]
  },
  {
   "cell_type": "code",
   "execution_count": 90,
   "metadata": {},
   "outputs": [
    {
     "name": "stdout",
     "output_type": "stream",
     "text": [
      "{'x': -12462673.723706165, 'y': 5384674.994080178, 'spatialReference': {'wkid': 102100, 'latestWkid': 3857}}\n"
     ]
    }
   ],
   "source": [
    "print (df['SHAPE'].values[0]"
   ]
  },
  {
   "cell_type": "code",
   "execution_count": 67,
   "metadata": {},
   "outputs": [
    {
     "ename": "AttributeError",
     "evalue": "type object 'DataFrame' has no attribute 'from_df'",
     "output_type": "error",
     "traceback": [
      "\u001b[0;31m---------------------------------------------------------------------------\u001b[0m",
      "\u001b[0;31mAttributeError\u001b[0m                            Traceback (most recent call last)",
      "\u001b[0;32m<ipython-input-67-3ad3cff230a0>\u001b[0m in \u001b[0;36m<module>\u001b[0;34m\u001b[0m\n\u001b[1;32m      3\u001b[0m \u001b[0md\u001b[0m \u001b[0;34m=\u001b[0m \u001b[0;34m{\u001b[0m\u001b[0;34m'FID'\u001b[0m\u001b[0;34m:\u001b[0m\u001b[0;34m[\u001b[0m\u001b[0;36m1\u001b[0m\u001b[0;34m,\u001b[0m\u001b[0;36m2\u001b[0m\u001b[0;34m]\u001b[0m\u001b[0;34m,\u001b[0m\u001b[0;34m'SHAPE'\u001b[0m\u001b[0;34m:\u001b[0m \u001b[0mcoor\u001b[0m\u001b[0;34m}\u001b[0m\u001b[0;34m\u001b[0m\u001b[0;34m\u001b[0m\u001b[0m\n\u001b[1;32m      4\u001b[0m \u001b[0mdf\u001b[0m \u001b[0;34m=\u001b[0m \u001b[0mpd\u001b[0m\u001b[0;34m.\u001b[0m\u001b[0mDataFrame\u001b[0m\u001b[0;34m.\u001b[0m\u001b[0mfrom_dict\u001b[0m\u001b[0;34m(\u001b[0m\u001b[0md\u001b[0m\u001b[0;34m)\u001b[0m\u001b[0;34m\u001b[0m\u001b[0;34m\u001b[0m\u001b[0m\n\u001b[0;32m----> 5\u001b[0;31m \u001b[0mdf1\u001b[0m \u001b[0;34m=\u001b[0m \u001b[0mpd\u001b[0m\u001b[0;34m.\u001b[0m\u001b[0mDataFrame\u001b[0m\u001b[0;34m.\u001b[0m\u001b[0mfrom_df\u001b[0m\u001b[0;34m(\u001b[0m\u001b[0mdf\u001b[0m\u001b[0;34m)\u001b[0m\u001b[0;34m\u001b[0m\u001b[0;34m\u001b[0m\u001b[0m\n\u001b[0m\u001b[1;32m      6\u001b[0m \u001b[0mdf1\u001b[0m\u001b[0;34m\u001b[0m\u001b[0;34m\u001b[0m\u001b[0m\n\u001b[1;32m      7\u001b[0m \u001b[0;34m\u001b[0m\u001b[0m\n",
      "\u001b[0;31mAttributeError\u001b[0m: type object 'DataFrame' has no attribute 'from_df'"
     ]
    }
   ],
   "source": [
    "import pandas as pd\n",
    "coor = [{'x': -122.431297, 'y': -122.431297}, {'x': -71.0589, 'y':42.3601}]\n",
    "d = {'FID':[1,2],'SHAPE': coor}\n",
    "df = pd.DataFrame.from_dict(d)\n",
    "df1 = pd.DataFrame.from_df(df)\n",
    "df1\n",
    "\n",
    "# df.plot(kind='map', map_widget= m)"
   ]
  },
  {
   "cell_type": "code",
   "execution_count": null,
   "metadata": {},
   "outputs": [],
   "source": []
  },
  {
   "cell_type": "code",
   "execution_count": 28,
   "metadata": {},
   "outputs": [
    {
     "name": "stdout",
     "output_type": "stream",
     "text": [
      "<Response [200]>\n"
     ]
    }
   ],
   "source": [
    "import requests\n",
    "response = requests.get(\"http://api.open-notify.org/astros.json\")\n",
    "print(response)"
   ]
  },
  {
   "cell_type": "code",
   "execution_count": 57,
   "metadata": {},
   "outputs": [
    {
     "data": {
      "text/plain": [
       "<FeatureLayer url:\"https://services.arcgis.com/P3ePLMYs2RVChkJx/arcgis/rest/services/USA_Major_Cities/FeatureServer/0\">"
      ]
     },
     "execution_count": 57,
     "metadata": {},
     "output_type": "execute_result"
    }
   ],
   "source": [
    "from arcgis import GIS\n",
    "gis = GIS()\n",
    "item = gis.content.get(\"85d0ca4ea1ca4b9abf0c51b9bd34de2e\")\n",
    "flayer = item.layers[0]\n",
    "flayer\n",
    "\n",
    "# # create a Spatially Enabled DataFrame object\n",
    "# sdf = pd.DataFrame.spatial.from_layer(flayer)\n",
    "# sdf.head()"
   ]
  },
  {
   "cell_type": "code",
   "execution_count": null,
   "metadata": {},
   "outputs": [],
   "source": []
  }
 ],
 "metadata": {
  "kernelspec": {
   "display_name": "Python 3",
   "language": "python",
   "name": "python3"
  },
  "language_info": {
   "codemirror_mode": {
    "name": "ipython",
    "version": 3
   },
   "file_extension": ".py",
   "mimetype": "text/x-python",
   "name": "python",
   "nbconvert_exporter": "python",
   "pygments_lexer": "ipython3",
   "version": "3.8.3"
  }
 },
 "nbformat": 4,
 "nbformat_minor": 4
}
