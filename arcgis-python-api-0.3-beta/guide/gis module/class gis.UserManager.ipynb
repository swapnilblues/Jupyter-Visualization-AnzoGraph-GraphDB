{
 "cells": [
  {
   "cell_type": "markdown",
   "metadata": {},
   "source": [
    "## The UserManager class"
   ]
  },
  {
   "cell_type": "markdown",
   "metadata": {},
   "source": [
    "<hr/>"
   ]
  },
  {
   "cell_type": "markdown",
   "metadata": {},
   "source": [
    "## class gis.UserManager(<i>gis</i>)"
   ]
  },
  {
   "cell_type": "markdown",
   "metadata": {},
   "source": [
    "Manager class for managing GIS users. This class is not created by users directly. An instance of this class, called ‘users’, is available as a property of the gis object. Users call methods on this ‘users’ object to manipulate (create, get, search...) users. \n",
    "\n",
    "Here is an example of using the 'users' object to search for users:"
   ]
  },
  {
   "cell_type": "code",
   "execution_count": 1,
   "metadata": {
    "collapsed": false
   },
   "outputs": [
    {
     "data": {
      "text/html": [
       "<div class=\"9item_container\" style=\"height: auto; overflow: hidden; border: 1px solid #cfcfcf; border-radius: 2px; background: #f6fafa; line-height: 1.21429em; padding: 10px;\">\n",
       "                    <div class=\"item_left\" style=\"width: 210px; float: left;\">\n",
       "                       <a href='http://www.arcgis.com/home/user.html?user=jes0070' target='_blank'>\n",
       "                        <img src='http://www.arcgis.com/home/js/arcgisonline/css/images/no-user-thumb.jpg' class=\"itemThumbnail\">\n",
       "                       </a>\n",
       "                    </div>\n",
       "\n",
       "                    <div class=\"item_right\" style=\"float: none; width: auto; overflow: hidden;\">\n",
       "                        <a href='http://www.arcgis.com/home/user.html?user=jes0070' target='_blank'><b>JOHN SMITH</b>\n",
       "                        </a>\n",
       "                        <br/><br/><b>Bio</b>: Real Estate Services @ Reconassist and 4deeds.com SALESFORCE.COM (SFDC), GPS, GIS, VA. Beach, VA.   @1JohnSmith\n",
       "                        <br/><b>First Name</b>: JOHN\n",
       "                        <br/><b>Last Name</b>: SMITH\n",
       "                        <br/><b>Username</b>: jes0070\n",
       "                        <br/><b>Joined</b>: November 04, 2011\n",
       "\n",
       "                    </div>\n",
       "                </div>\n",
       "                "
      ],
      "text/plain": [
       "<User username:jes0070>"
      ]
     },
     "execution_count": 1,
     "metadata": {},
     "output_type": "execute_result"
    }
   ],
   "source": [
    "from arcgis.gis import GIS\n",
    "\n",
    "gis = GIS()\n",
    "user = gis.users.search('johnsmith')[0]\n",
    "user"
   ]
  },
  {
   "cell_type": "markdown",
   "metadata": {},
   "source": [
    " <hr>"
   ]
  },
  {
   "cell_type": "markdown",
   "metadata": {
    "collapsed": false
   },
   "source": [
    "### create(<i>username, password, firstname, lastname, email, description=None, role=\"org_user\", provider=\"arcgis\", idpUsername=None</i>)"
   ]
  },
  {
   "cell_type": "markdown",
   "metadata": {},
   "source": [
    "This operation is used to pre-create built-in or enterprise accounts within the portal.  The provider parameter is used to indicate the type of user account.  Only an administrator can call this method."
   ]
  },
  {
   "cell_type": "markdown",
   "metadata": {},
   "source": [
    "<div class=\"alert alert-success\">\n",
    "When Portal for ArcGIS is connected to an enterprise identity store, enterprise users sign into portal using their enterprise credentials.  By default, new installations of Portal for ArcGIS do not allow accounts from an enterprise identity store to be registered to the portal automatically.  Only users with accounts that have been pre-created can sign in to the portal.  Alternatively, you can configure the portal to register enterprise accounts the first time the user connects to the website.\n",
    "</div>"
   ]
  },
  {
   "cell_type": "markdown",
   "metadata": {},
   "source": [
    "**Arguments:**\n",
    "<table border=\"1\" class=\"docutils\">\n",
    "<colgroup>\n",
    "<col width=\"22%\">\n",
    "<col width=\"78%\">\n",
    "</colgroup>\n",
    "<tbody valign=\"top\">\n",
    "<tr class=\"row-odd\"><td><strong>Argument</strong></td>\n",
    "<td><strong>Description</strong></td>\n",
    "</tr>\n",
    "<tr class=\"row-even\"><td>username</td>\n",
    "<td>required string, must be unique in the portal that is between 6 to 24 characters.</td>\n",
    "</tr>\n",
    "<tr class=\"row-odd\"><td>password</td>\n",
    "<td>required string, must be greater than or equal to 8 characters.  This is a required parameter only if the provider is arcgis; otherwise, the password parameter is ignored.</td>\n",
    "</tr>\n",
    "<tr class=\"row-even\"><td>firstname</td>\n",
    "<td>required string, the first name of the user.</td>\n",
    "</tr>\n",
    "<tr class=\"row-even\"><td>lastname</td>\n",
    "<td>required string, the last name of the user.</td>\n",
    "</tr>\n",
    "<tr class=\"row-odd\"><td>email</td>\n",
    "<td>required string, must be an email address.</td>\n",
    "</tr>\n",
    "<tr class=\"row-odd\"><td>description</td>\n",
    "<td>optional string. An optional description for the user account.</td>\n",
    "</tr>\n",
    "<tr class=\"row-odd\"><td>role</td>\n",
    "<td>optional string, the role for the user account. The default value is org_user.  Valid values: org_user, org_publisher, org_admin.</td>\n",
    "</tr>\n",
    "<tr class=\"row-odd\"><td>provider</td>\n",
    "<td>optional stting, the provider for the account. The default value is arcgis.  Valid values: arcgis, enterprise.</td>\n",
    "</tr>\n",
    "<tr class=\"row-odd\"><td>idpUsername</td>\n",
    "<td>optional string, the name of the user as stored by the enterprise user store. This parameter is only required if the provider parameter is enterprise.</td>\n",
    "</tr>\n",
    "</tbody>\n",
    "</table>\n",
    "\n",
    "\n",
    "**Returns:**\tthe user, if created, else None."
   ]
  },
  {
   "cell_type": "markdown",
   "metadata": {
    "collapsed": false
   },
   "source": [
    "<hr>"
   ]
  },
  {
   "cell_type": "markdown",
   "metadata": {},
   "source": [
    "### get(<i>username</i>)"
   ]
  },
  {
   "cell_type": "markdown",
   "metadata": {},
   "source": [
    "Returns the user object for the user with the specified username."
   ]
  },
  {
   "cell_type": "markdown",
   "metadata": {},
   "source": [
    "**Arguments:**\n",
    "<table border=\"1\" class=\"docutils\">\n",
    "<colgroup>\n",
    "<col width=\"22%\">\n",
    "<col width=\"78%\">\n",
    "</colgroup>\n",
    "<tbody valign=\"top\">\n",
    "<tr class=\"row-odd\"><td><strong>Argument</strong></td>\n",
    "<td><strong>Description</strong></td>\n",
    "</tr>\n",
    "<tr class=\"row-even\"><td>username</td>\n",
    "<td>required string, the username whose user object you want.</td>\n",
    "</tr>\n",
    "</tbody>\n",
    "</table>\n",
    "\n",
    "**Returns:**\tNone if the user is not found and returns a user object if the user is found."
   ]
  },
  {
   "cell_type": "markdown",
   "metadata": {
    "collapsed": false
   },
   "source": [
    "<hr>"
   ]
  },
  {
   "cell_type": "markdown",
   "metadata": {},
   "source": [
    "### logged_in_user()"
   ]
  },
  {
   "cell_type": "markdown",
   "metadata": {
    "collapsed": false
   },
   "source": [
    "Returns the logged in user.\n"
   ]
  },
  {
   "cell_type": "markdown",
   "metadata": {},
   "source": [
    "**Arguments:**\n",
    "None\n",
    "\n",
    "**Returns:**\tthe logged in user.\n"
   ]
  },
  {
   "cell_type": "markdown",
   "metadata": {},
   "source": [
    "<hr>"
   ]
  },
  {
   "cell_type": "markdown",
   "metadata": {},
   "source": [
    "### search(<i>query=None, sort_field=\"username\", sort_order=\"asc\", max_users=100, outside_org=False</i>)"
   ]
  },
  {
   "cell_type": "markdown",
   "metadata": {
    "collapsed": false
   },
   "source": [
    "Searches portal users.\n",
    "\n",
    "Returns a list of users matching the specified query."
   ]
  },
  {
   "cell_type": "markdown",
   "metadata": {},
   "source": [
    "<div class=\"alert alert-success\">\n",
    "A few things that will be helpful to know.\n",
    "<p>\n",
    "<ul><li>\n",
    "The query syntax has quite a few features that can’t be adequately described here. The query syntax is available in ArcGIS help. A short version of that URL is http://bitly.com/1fJ8q31.\n",
    "</li><li>\n",
    "Searching without specifying a query parameter returns a list of all users in your organization.\n",
    "</li><li>\n",
    "Most of the time when searching users you want to search within your organization in ArcGIS Online or within your portal. As a convenience, the method automatically appends your organization id to the query by default. If you don’t want the API to append to your query, set outside_org to True. If you use this feature with an OR clause such as field=x or field=y, you should put this into parenthesis when using outside_org.\n",
    "</li></ul>\n",
    "</div>"
   ]
  },
  {
   "cell_type": "markdown",
   "metadata": {},
   "source": [
    "**Arguments:**\n",
    "<table border=\"1\" class=\"docutils\">\n",
    "<colgroup>\n",
    "<col width=\"21%\">\n",
    "<col width=\"79%\">\n",
    "</colgroup>\n",
    "<tbody valign=\"top\">\n",
    "<tr class=\"row-odd\"><td><strong>Argument</strong></td>\n",
    "<td><strong>Description</strong></td>\n",
    "</tr>\n",
    "\n",
    "<tr class=\"row-even\"><td>query</td>\n",
    "<td>optional string, a query string.  Pass None to get a list of all users in the org.</td>\n",
    "</tr>\n",
    "\n",
    "<tr class=\"row-even\"><td>sort_field</td>\n",
    "<td>optional string, valid values: username, created.</td>\n",
    "</tr>\n",
    "\n",
    "<tr class=\"row-even\"><td>sort_order</td>\n",
    "<td>optional string, valid values: asc, desc.</td>\n",
    "</tr>\n",
    "\n",
    "<tr class=\"row-even\"><td>max_users</td>\n",
    "<td>optional int, maximum number of users returned.</td>\n",
    "</tr>\n",
    "\n",
    "<tr class=\"row-even\"><td>add_org</td>\n",
    "<td>optional boolean.  Default is True. Controls whether to search outside your org.</td>\n",
    "</tr>\n",
    "\n",
    "</tbody>\n",
    "</table>\n",
    "\n",
    "**Returns:**\n",
    "\ta list of users."
   ]
  },
  {
   "cell_type": "markdown",
   "metadata": {},
   "source": [
    "<hr>"
   ]
  }
 ],
 "metadata": {
  "kernelspec": {
   "display_name": "Python 3",
   "language": "python",
   "name": "python3"
  },
  "language_info": {
   "codemirror_mode": {
    "name": "ipython",
    "version": 3
   },
   "file_extension": ".py",
   "mimetype": "text/x-python",
   "name": "python",
   "nbconvert_exporter": "python",
   "pygments_lexer": "ipython3",
   "version": "3.5.2"
  }
 },
 "nbformat": 4,
 "nbformat_minor": 0
}
