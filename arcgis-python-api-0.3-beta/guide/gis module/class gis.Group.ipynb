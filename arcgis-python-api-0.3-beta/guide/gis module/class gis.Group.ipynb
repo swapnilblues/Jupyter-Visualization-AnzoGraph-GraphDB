{
 "cells": [
  {
   "cell_type": "markdown",
   "metadata": {},
   "source": [
    "## The Group class"
   ]
  },
  {
   "cell_type": "markdown",
   "metadata": {},
   "source": [
    "<hr/>"
   ]
  },
  {
   "cell_type": "markdown",
   "metadata": {},
   "source": [
    "## <b>class gis.Group<b>(<i>gis, groupid, groupdict=None)</i>)"
   ]
  },
  {
   "cell_type": "markdown",
   "metadata": {},
   "source": [
    "Bases: builtins.dict\n",
    "\n",
    "Represents a group (for example, San Bernardino Fires) within the GIS (ArcGIS Online or Portal for ArcGIS)\n",
    "\n",
    "An instance of this class is not created directly by users. It is returned from the gis.groups GroupManager object as a result of an create() or search() operation."
   ]
  },
  {
   "cell_type": "code",
   "execution_count": 1,
   "metadata": {
    "collapsed": true
   },
   "outputs": [],
   "source": [
    "from arcgis.gis import GIS\n",
    "\n",
    "gis = GIS()\n",
    "group = gis.groups.search('Python')[0]"
   ]
  },
  {
   "cell_type": "markdown",
   "metadata": {},
   "source": [
    "The group object has a rich representation in the IPython notebook environment:"
   ]
  },
  {
   "cell_type": "code",
   "execution_count": 2,
   "metadata": {
    "collapsed": false
   },
   "outputs": [
    {
     "data": {
      "text/html": [
       "<div class=\"9item_container\" style=\"height: auto; overflow: hidden; border: 1px solid #cfcfcf; border-radius: 2px; background: #f6fafa; line-height: 1.21429em; padding: 10px;\">\n",
       "                    <div class=\"item_left\" style=\"width: 210px; float: left;\">\n",
       "                       <a href='http://www.arcgis.com/home/group.html?id=8f3721913b474c87910c767e717bdc20' target='_blank'>\n",
       "                        <img src='http://www.arcgis.com/sharing/rest/community/groups/8f3721913b474c87910c767e717bdc20/info/C_3A_Installs_Scripts_Python_ALF_Data.gif' class=\"itemThumbnail\">\n",
       "                       </a>\n",
       "                    </div>\n",
       "\n",
       "                    <div class=\"item_right\" style=\"float: none; width: auto; overflow: hidden;\">\n",
       "                        <a href='http://www.arcgis.com/home/group.html?id=8f3721913b474c87910c767e717bdc20' target='_blank'><b>Aggregated Live Feed Community</b>\n",
       "                        </a>\n",
       "                        <br/>\n",
       "                        <br/><b>Summary</b>: A collection of tools, scripts, and methodologies that help ArcGIS users better leverage available data. (expand for more detail)\n",
       "                        <br/><b>Description</b>: <p>Use the components found here to build automated update routines that download content from just about anywhere, process it, and produce a consumable data set that can be used by ArcGIS products.</p><p><img alt='ALF-Lite process diagram' src='https://s3.amazonaws.com/tmLiveFeeds/Images/ALF-Lite_Diagram_v1.1.gif' /></p><ul><li>Written in Python, these routines can run on any OS that supports Python, ArcGIS, and ArcPy.</li><li>Using the ALF-Lite architecture will reduce the demand on Enterprise Resources by leveraging the File Geodatabase.</li><li>Lightweight and simple enough to run on a single User's Desktop, yet powerful enough to scale out to a distributed, multi-tiered environment. Use your Python skills and tailor to your needs!</li><li>The 'Log' files are automatically maintained by the Logger object found in the <a href='http://www.arcgis.com/home/item.html?id=b01b18bbf0e34338b6a2c71609ea1373' target='_blank'>ALFlib</a> library.</li><li>The 'Deployment' logic is integrated into a user-maintained configuration file. It's up to you how to deploy the data. By default, the Feed Routines copy their workspace to a Live folder, ready for consumption.</li><li>The 'Live' FileGDB can be directly consumed by ArcGIS Desktop or published by ArcGIS Server using a Map Service even while the script updates the underlying data. Eliminating the need to re-cycle live services just to refresh a data source!<br /></li><li>To maintain the Live data on a regular interval, schedule a task or cron job to run the Feed Routine as often as needed to keep the data current.</li></ul><p>Here's an example map of live Rain fall intensity (precipitation), NOAA Weather Advisories, and Wind Speed and Direction data all prepared by ALF-Lite routines and published using ArcGIS Server Map Services:</p><p><img alt='ALF-Lite data set example' src='https://s3.amazonaws.com/tmLiveFeeds/Images/ALF-Lite_Example_v1.0.gif' /></p>\n",
       "                        <br/><b>Owner</b>: Esri_Technical_Marketing\n",
       "                        <br/><b>Created</b>: April 10, 2012\n",
       "\n",
       "                    </div>\n",
       "                </div>\n",
       "                "
      ],
      "text/plain": [
       "<Group title:\"Aggregated Live Feed Community\" owner:Esri_Technical_Marketing>"
      ]
     },
     "execution_count": 2,
     "metadata": {},
     "output_type": "execute_result"
    }
   ],
   "source": [
    "group"
   ]
  },
  {
   "cell_type": "markdown",
   "metadata": {},
   "source": [
    "The Group object is a Python dict. User properties can be accessed using subscript notation:"
   ]
  },
  {
   "cell_type": "code",
   "execution_count": 3,
   "metadata": {
    "collapsed": false
   },
   "outputs": [
    {
     "data": {
      "text/plain": [
       "'Aggregated Live Feed Community'"
      ]
     },
     "execution_count": 3,
     "metadata": {},
     "output_type": "execute_result"
    }
   ],
   "source": [
    "group['title']"
   ]
  },
  {
   "cell_type": "markdown",
   "metadata": {},
   "source": [
    "The group properties can also be accessed using the dot(.) notation, as properties of the class:"
   ]
  },
  {
   "cell_type": "code",
   "execution_count": 4,
   "metadata": {
    "collapsed": false
   },
   "outputs": [
    {
     "data": {
      "text/plain": [
       "'A collection of tools, scripts, and methodologies that help ArcGIS users better leverage available data. (expand for more detail)'"
      ]
     },
     "execution_count": 4,
     "metadata": {},
     "output_type": "execute_result"
    }
   ],
   "source": [
    "group.snippet"
   ]
  },
  {
   "cell_type": "markdown",
   "metadata": {},
   "source": [
    " <hr>"
   ]
  },
  {
   "cell_type": "markdown",
   "metadata": {},
   "source": [
    "### add_users(<i>usernames</i>)"
   ]
  },
  {
   "cell_type": "markdown",
   "metadata": {},
   "source": [
    "Adds users to this group."
   ]
  },
  {
   "cell_type": "markdown",
   "metadata": {},
   "source": [
    "<div class=\"alert alert-success\">\n",
    "This method will only work if the user for the Portal object is either an administrator for the entire\n",
    "Portal or the owner of the group.\n",
    "</div>"
   ]
  },
  {
   "cell_type": "markdown",
   "metadata": {},
   "source": [
    "**Arguments:**\n",
    "<table border=\"1\" class=\"docutils\">\n",
    "<colgroup>\n",
    "<col width=\"27%\">\n",
    "<col width=\"73%\">\n",
    "</colgroup>\n",
    "<tbody valign=\"top\">\n",
    "<tr class=\"row-odd\"><td><strong>Argument</strong></td>\n",
    "<td><strong>Description</strong></td>\n",
    "</tr>\n",
    "<tr class=\"row-even\"><td>usernames</td>\n",
    "<td>required string, list of users separated by comma.</td>\n",
    "</tr>\n",
    "</tbody>\n",
    "</table>\n",
    "\n",
    "**Returns:**\tA dictionary with a key of “not_added” which contains the users that were not added to the group."
   ]
  },
  {
   "cell_type": "markdown",
   "metadata": {},
   "source": [
    "<hr>"
   ]
  },
  {
   "cell_type": "markdown",
   "metadata": {},
   "source": [
    "### invite_users(<i>usernames, role=\"group_member\", expiration=10080</i>)"
   ]
  },
  {
   "cell_type": "markdown",
   "metadata": {},
   "source": [
    "Invites users to this group."
   ]
  },
  {
   "cell_type": "markdown",
   "metadata": {},
   "source": [
    "<div class=\"alert alert-success\">\n",
    "A user who is invited to this group will see a list of invitations in the “Groups” tab of portal listing invitations. The user can either accept or reject the invitation.\n",
    "\n",
    "The user executing the command must be group owner\n",
    "\n",
    "</div>"
   ]
  },
  {
   "cell_type": "markdown",
   "metadata": {},
   "source": [
    "**Arguments:**\n",
    "<table border=\"1\" class=\"docutils\">\n",
    "<colgroup>\n",
    "<col width=\"22%\">\n",
    "<col width=\"78%\">\n",
    "</colgroup>\n",
    "<tbody valign=\"top\">\n",
    "<tr class=\"row-odd\"><td><strong>Argument</strong></td>\n",
    "<td><strong>Description</strong></td>\n",
    "</tr>\n",
    "<tr class=\"row-even\"><td>usernames</td>\n",
    "<td>required string, list of users to invite.</td>\n",
    "</tr>\n",
    "<tr class=\"row-odd\"><td>role</td>\n",
    "<td>optional string, either group_member or group_admin.</td>\n",
    "</tr>\n",
    "<tr class=\"row-even\"><td>expiration</td>\n",
    "<td>optional int, specifies how long the invitation is\n",
    "valid for in minutes.</td>\n",
    "</tr>\n",
    "</tbody>\n",
    "</table>\n",
    "\n",
    "**Returns:**\n",
    "a boolean that indicates whether the call succeeded."
   ]
  },
  {
   "cell_type": "markdown",
   "metadata": {},
   "source": [
    "<hr>"
   ]
  },
  {
   "cell_type": "markdown",
   "metadata": {},
   "source": [
    "### remove_users(<i>usernames</i>)"
   ]
  },
  {
   "cell_type": "markdown",
   "metadata": {},
   "source": [
    "<div class=\"alert alert-success\">\n",
    "This method will only work if the user for the Portal object is either an administrator for the entire\n",
    "Portal or the owner of the group.\n",
    "</div>"
   ]
  },
  {
   "cell_type": "markdown",
   "metadata": {},
   "source": [
    "**Arguments:**\n",
    "<table border=\"1\" class=\"docutils\">\n",
    "<colgroup>\n",
    "<col width=\"27%\">\n",
    "<col width=\"73%\">\n",
    "</colgroup>\n",
    "<tbody valign=\"top\">\n",
    "<tr class=\"row-odd\"><td><strong>Argument</strong></td>\n",
    "<td><strong>Description</strong></td>\n",
    "</tr>\n",
    "<tr class=\"row-even\"><td>usernames</td>\n",
    "<td>required string, list of users separated by comma.</td>\n",
    "</tr>\n",
    "</tbody>\n",
    "</table>\n",
    "\n",
    "**Returns:**\n",
    "    A dictionary with a key of “notRemoved” which contains the users that were not removed from the group."
   ]
  },
  {
   "cell_type": "markdown",
   "metadata": {},
   "source": [
    "<hr>"
   ]
  },
  {
   "cell_type": "markdown",
   "metadata": {},
   "source": [
    "### reassign_to(<i>target_owner</i>)"
   ]
  },
  {
   "cell_type": "markdown",
   "metadata": {},
   "source": [
    "Reassigns this group to another owner."
   ]
  },
  {
   "cell_type": "markdown",
   "metadata": {},
   "source": [
    "**Arguments:**\n",
    "<table border=\"1\" class=\"docutils\">\n",
    "<colgroup>\n",
    "<col width=\"22%\">\n",
    "<col width=\"78%\">\n",
    "</colgroup>\n",
    "<tbody valign=\"top\">\n",
    "<tr class=\"row-odd\"><td><strong>Argument</strong></td>\n",
    "<td><strong>Description</strong></td>\n",
    "</tr>\n",
    "<tr class=\"row-even\"><td>target_owner</td>\n",
    "<td>required string, username of new group owner.</td>\n",
    "</tr>\n",
    "</tbody>\n",
    "</table>\n",
    "\n",
    "**Returns:**\n",
    "a boolean, indicating success"
   ]
  },
  {
   "cell_type": "markdown",
   "metadata": {},
   "source": [
    "<hr>"
   ]
  },
  {
   "cell_type": "markdown",
   "metadata": {},
   "source": [
    "### leave()"
   ]
  },
  {
   "cell_type": "markdown",
   "metadata": {},
   "source": [
    "Removes the logged in user from the specified group."
   ]
  },
  {
   "cell_type": "markdown",
   "metadata": {},
   "source": [
    "**Requires:**\n",
    "User must be logged in.\n",
    "\n",
    "**Arguments:**\n",
    "None.\n",
    "\n",
    "**Returns:**\n",
    "    a boolean indicating whether the operation was successful."
   ]
  },
  {
   "cell_type": "markdown",
   "metadata": {},
   "source": [
    "<hr>"
   ]
  },
  {
   "cell_type": "markdown",
   "metadata": {
    "collapsed": false
   },
   "source": [
    "### update(<i>(title=None, tags=None, description=None, snippet=None, access=None, is_invitation_only=None, sort_field=None, sort_order=None, is_view_only=None, thumbnail=None)</i>)"
   ]
  },
  {
   "cell_type": "markdown",
   "metadata": {},
   "source": [
    "Updates this group’s properties."
   ]
  },
  {
   "cell_type": "markdown",
   "metadata": {},
   "source": [
    "<div class=\"alert alert-success\">\n",
    "Only pass in values for the arguments you want to update. All other properties will be left as they are. If you want to update description, then only provide the description argument.\n",
    "</div>"
   ]
  },
  {
   "cell_type": "markdown",
   "metadata": {},
   "source": [
    "**Arguments:**\n",
    "<table border=\"1\" class=\"docutils\">\n",
    "<colgroup>\n",
    "<col width=\"24%\">\n",
    "<col width=\"76%\">\n",
    "</colgroup>\n",
    "<tbody valign=\"top\">\n",
    "<tr class=\"row-odd\"><td><strong>Argument</strong></td>\n",
    "<td><strong>Description</strong></td>\n",
    "</tr>\n",
    "<tr class=\"row-even\"><td>title</td>\n",
    "<td>optional string, name of the group.</td>\n",
    "</tr>\n",
    "<tr class=\"row-odd\"><td>tags</td>\n",
    "<td>optional string, comma-delimited list of tags or list of tags as strings.</td>\n",
    "</tr>\n",
    "<tr class=\"row-even\"><td>description</td>\n",
    "<td>optional string, describes group in detail.</td>\n",
    "</tr>\n",
    "<tr class=\"row-odd\"><td>snippet</td>\n",
    "<td>optional string, &lt;250 characters summarizes group.</td>\n",
    "</tr>\n",
    "<tr class=\"row-even\"><td>access</td>\n",
    "<td>optional string, can be private, public, or org.</td>\n",
    "</tr>\n",
    "<tr class=\"row-even\"><td>is_invitation_only</td>\n",
    "<td>optional boolean, defines whether users can join by\n",
    "request.</td>\n",
    "</tr>\n",
    "<tr class=\"row-odd\"><td>sort_field</td>\n",
    "<td>optional string, specifies how shared items with the\n",
    "group are sorted.</td>\n",
    "</tr>\n",
    "<tr class=\"row-even\"><td>sort_order</td>\n",
    "<td>optional string, asc or desc for ascending or descending.</td>\n",
    "</tr>\n",
    "<tr class=\"row-odd\"><td>is_view_only</td>\n",
    "<td>optional boolean, defines whether the group is searchable</td>\n",
    "</tr>\n",
    "<tr class=\"row-odd\"><td>thumbnail</td>\n",
    "<td>optional string, URL or file location to group image.  \n",
    "Image can be PNG, GIF, JPEG, and max size 1 MB.\n",
    "</td>\n",
    "</tr>\n",
    "</tbody>\n",
    "</table>\n",
    "\n",
    "\n",
    "**Returns:**\ta boolean indicating success"
   ]
  },
  {
   "cell_type": "markdown",
   "metadata": {
    "collapsed": false
   },
   "source": [
    "<hr>"
   ]
  },
  {
   "cell_type": "markdown",
   "metadata": {},
   "source": [
    "### delete()"
   ]
  },
  {
   "cell_type": "markdown",
   "metadata": {
    "collapsed": false
   },
   "source": [
    "Deletes this group."
   ]
  },
  {
   "cell_type": "markdown",
   "metadata": {},
   "source": [
    "**Arguments:**\n",
    "None\n",
    "\n",
    "**Returns:**\ta boolean indicating whether the operation succeeded or failed."
   ]
  },
  {
   "cell_type": "markdown",
   "metadata": {
    "collapsed": false
   },
   "source": [
    "<hr>"
   ]
  },
  {
   "cell_type": "markdown",
   "metadata": {},
   "source": [
    "### get_thumbnail()"
   ]
  },
  {
   "cell_type": "markdown",
   "metadata": {},
   "source": [
    "Returns the bytes that make up the thumbnail for this group.\n",
    "\n",
    "**Arguments:**\n",
    "None.\n",
    "\n",
    "**Returns:**\n",
    "bytes that represent the image.\n",
    "\n",
    "**Example:**\n",
    "```PYTHON\n",
    "with open(filename, 'wb') as f:\n",
    "    response = group.get_thumbnail()\n",
    "    f.write(response)\n",
    "```"
   ]
  },
  {
   "cell_type": "markdown",
   "metadata": {},
   "source": [
    "<hr>"
   ]
  },
  {
   "cell_type": "markdown",
   "metadata": {},
   "source": [
    "### get_thumbnail_link()"
   ]
  },
  {
   "cell_type": "markdown",
   "metadata": {
    "collapsed": false
   },
   "source": [
    "Returns the URL to the thumbnail image"
   ]
  },
  {
   "cell_type": "markdown",
   "metadata": {},
   "source": [
    "<hr>"
   ]
  },
  {
   "cell_type": "markdown",
   "metadata": {},
   "source": [
    "### get_members()"
   ]
  },
  {
   "cell_type": "markdown",
   "metadata": {
    "collapsed": false
   },
   "source": [
    "Returns members of this group."
   ]
  },
  {
   "cell_type": "markdown",
   "metadata": {},
   "source": [
    "<div class=\"alert alert-success\">This method must be executed as an administrator. This method also can not be undone. The changes are immediately made and permanent.</div>"
   ]
  },
  {
   "cell_type": "markdown",
   "metadata": {},
   "source": [
    "**Arguments:**\n",
    "None.\n",
    "\n",
    "**Returns:**\n",
    "    a dictionary with keys: owner, admins, and users.\n",
    "<table border=\"1\" class=\"last docutils\">\n",
    "<colgroup>\n",
    "<col width=\"22%\">\n",
    "<col width=\"78%\">\n",
    "</colgroup>\n",
    "<tbody valign=\"top\">\n",
    "<tr class=\"row-odd\"><td><strong>Key</strong></td>\n",
    "<td><strong>Value</strong></td>\n",
    "</tr>\n",
    "<tr class=\"row-even\"><td>owner</td>\n",
    "<td>string value, the group’s owner.</td>\n",
    "</tr>\n",
    "<tr class=\"row-odd\"><td>admins</td>\n",
    "<td>list of strings, typically this is the same as the owner.</td>\n",
    "</tr>\n",
    "<tr class=\"row-even\"><td>users</td>\n",
    "<td>list of strings, the members of the group.</td>\n",
    "</tr>\n",
    "</tbody>\n",
    "</table>"
   ]
  }
 ],
 "metadata": {
  "kernelspec": {
   "display_name": "Python 3",
   "language": "python",
   "name": "python3"
  },
  "language_info": {
   "codemirror_mode": {
    "name": "ipython",
    "version": 3
   },
   "file_extension": ".py",
   "mimetype": "text/x-python",
   "name": "python",
   "nbconvert_exporter": "python",
   "pygments_lexer": "ipython3",
   "version": "3.5.2"
  }
 },
 "nbformat": 4,
 "nbformat_minor": 0
}
