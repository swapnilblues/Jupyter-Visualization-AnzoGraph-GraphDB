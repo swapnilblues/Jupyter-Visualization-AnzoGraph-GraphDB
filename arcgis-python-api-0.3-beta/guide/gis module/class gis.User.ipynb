{
 "cells": [
  {
   "cell_type": "markdown",
   "metadata": {},
   "source": [
    "## The User class"
   ]
  },
  {
   "cell_type": "markdown",
   "metadata": {},
   "source": [
    "<hr/>"
   ]
  },
  {
   "cell_type": "markdown",
   "metadata": {},
   "source": [
    "## class gis.User(<i>gis, username, userdict=None</i>)"
   ]
  },
  {
   "cell_type": "markdown",
   "metadata": {},
   "source": [
    "Bases: builtins.dict\n",
    "\n",
    "Represents a registered user of the GIS (ArcGIS Online or Portal for ArcGIS).\n",
    "\n",
    "An instance of this class is not created directly by users. It is returned from the gis.users UserManager object as a result of an create() or search() operation."
   ]
  },
  {
   "cell_type": "code",
   "execution_count": 1,
   "metadata": {
    "collapsed": false
   },
   "outputs": [],
   "source": [
    "from arcgis.gis import GIS\n",
    "\n",
    "gis = GIS()\n",
    "user = gis.users.search('johnsmith')[0]"
   ]
  },
  {
   "cell_type": "markdown",
   "metadata": {},
   "source": [
    "The user object has a rich representation in the IPython notebook environment:"
   ]
  },
  {
   "cell_type": "code",
   "execution_count": 2,
   "metadata": {
    "collapsed": false
   },
   "outputs": [
    {
     "data": {
      "text/html": [
       "<div class=\"9item_container\" style=\"height: auto; overflow: hidden; border: 1px solid #cfcfcf; border-radius: 2px; background: #f6fafa; line-height: 1.21429em; padding: 10px;\">\n",
       "                    <div class=\"item_left\" style=\"width: 210px; float: left;\">\n",
       "                       <a href='http://www.arcgis.com/home/user.html?user=jes0070' target='_blank'>\n",
       "                        <img src='http://www.arcgis.com/home/js/arcgisonline/css/images/no-user-thumb.jpg' class=\"itemThumbnail\">\n",
       "                       </a>\n",
       "                    </div>\n",
       "\n",
       "                    <div class=\"item_right\" style=\"float: none; width: auto; overflow: hidden;\">\n",
       "                        <a href='http://www.arcgis.com/home/user.html?user=jes0070' target='_blank'><b>JOHN SMITH</b>\n",
       "                        </a>\n",
       "                        <br/><br/><b>Bio</b>: Real Estate Services @ Reconassist and 4deeds.com SALESFORCE.COM (SFDC), GPS, GIS, VA. Beach, VA.   @1JohnSmith\n",
       "                        <br/><b>First Name</b>: JOHN\n",
       "                        <br/><b>Last Name</b>: SMITH\n",
       "                        <br/><b>Username</b>: jes0070\n",
       "                        <br/><b>Joined</b>: November 04, 2011\n",
       "\n",
       "                    </div>\n",
       "                </div>\n",
       "                "
      ],
      "text/plain": [
       "<User username:jes0070>"
      ]
     },
     "execution_count": 2,
     "metadata": {},
     "output_type": "execute_result"
    }
   ],
   "source": [
    "user"
   ]
  },
  {
   "cell_type": "markdown",
   "metadata": {},
   "source": [
    "The User object is a Python dict. User properties can be accessed using subscript notation:"
   ]
  },
  {
   "cell_type": "code",
   "execution_count": 3,
   "metadata": {
    "collapsed": false
   },
   "outputs": [
    {
     "data": {
      "text/plain": [
       "'JOHN'"
      ]
     },
     "execution_count": 3,
     "metadata": {},
     "output_type": "execute_result"
    }
   ],
   "source": [
    "user['firstName']"
   ]
  },
  {
   "cell_type": "markdown",
   "metadata": {},
   "source": [
    "The User properties can also be accessed using the dot(.) notation, as properties of the class:"
   ]
  },
  {
   "cell_type": "code",
   "execution_count": 4,
   "metadata": {
    "collapsed": false
   },
   "outputs": [
    {
     "data": {
      "text/plain": [
       "'SMITH'"
      ]
     },
     "execution_count": 4,
     "metadata": {},
     "output_type": "execute_result"
    }
   ],
   "source": [
    "user.lastName"
   ]
  },
  {
   "cell_type": "markdown",
   "metadata": {},
   "source": [
    " <hr>"
   ]
  },
  {
   "cell_type": "markdown",
   "metadata": {},
   "source": [
    "### reset(<i>password, new_password=None, new_security_question=None, new_security_answer=None</i>)"
   ]
  },
  {
   "cell_type": "markdown",
   "metadata": {},
   "source": [
    "Resets a user’s password, security question, and/or security answer."
   ]
  },
  {
   "cell_type": "markdown",
   "metadata": {},
   "source": [
    "<div class=\"alert alert-success\">\n",
    "This function does not apply to those using enterprise accounts that come from an enterprise such as ActiveDirectory, LDAP, or SAML. It only has an effect on built-in users.  \n",
    "<br>\n",
    "If a new security question is specified, a new security answer should be provided.\n",
    "</div>"
   ]
  },
  {
   "cell_type": "markdown",
   "metadata": {},
   "source": [
    "**Arguments:**\n",
    "<table border=\"1\" class=\"docutils\">\n",
    "<colgroup>\n",
    "<col width=\"27%\">\n",
    "<col width=\"73%\">\n",
    "</colgroup>\n",
    "<tbody valign=\"top\">\n",
    "<tr class=\"row-odd\"><td><strong>Argument</strong></td>\n",
    "<td><strong>Description</strong></td>\n",
    "</tr>\n",
    "<tr class=\"row-even\"><td>password</td>\n",
    "<td>required string, current password.</td>\n",
    "</tr>\n",
    "<tr class=\"row-odd\"><td>new_password</td>\n",
    "<td>optional string, new password if resetting password.</td>\n",
    "</tr>\n",
    "<tr class=\"row-even\"><td>new_security_question</td>\n",
    "<td>optional int, new security question if desired.</td>\n",
    "</tr>\n",
    "<tr class=\"row-odd\"><td>new_security_answer</td>\n",
    "<td>optional string, new security question answer if desired.</td>\n",
    "</tr>\n",
    "</tbody>\n",
    "</table>\n",
    "\n",
    "**Returns:**\ta boolean, indicating success"
   ]
  },
  {
   "cell_type": "markdown",
   "metadata": {},
   "source": [
    "<hr>"
   ]
  },
  {
   "cell_type": "markdown",
   "metadata": {
    "collapsed": false
   },
   "source": [
    "### update(<i>access=None, preferred_view=None, description=None, tags=None, thumbnail=None, fullname=None, email=None, culture=None, region=None</i>)"
   ]
  },
  {
   "cell_type": "markdown",
   "metadata": {},
   "source": [
    "Updates this user’s properties."
   ]
  },
  {
   "cell_type": "markdown",
   "metadata": {},
   "source": [
    "<div class=\"alert alert-success\">\n",
    "Only pass in arguments for properties you want to update. All other properties will be left as they are. If you want to update description, then only provide the description argument.\n",
    "</div>"
   ]
  },
  {
   "cell_type": "markdown",
   "metadata": {},
   "source": [
    "**Arguments:**\n",
    "<table border=\"1\" class=\"docutils\">\n",
    "<colgroup>\n",
    "<col width=\"22%\">\n",
    "<col width=\"78%\">\n",
    "</colgroup>\n",
    "<tbody valign=\"top\">\n",
    "<tr class=\"row-odd\"><td><strong>Argument</strong></td>\n",
    "<td><strong>Description</strong></td>\n",
    "</tr>\n",
    "<tr class=\"row-even\"><td>access</td>\n",
    "<td>optional string. Valid values: private, org, public.</td>\n",
    "</tr>\n",
    "<tr class=\"row-odd\"><td>preferred_view</td>\n",
    "<td>optional string. Valid values: Web, GIS, null.</td>\n",
    "</tr>\n",
    "<tr class=\"row-even\"><td>description</td>\n",
    "<td>optional string, a description of the user.</td>\n",
    "</tr>\n",
    "<tr class=\"row-odd\"><td>tags</td>\n",
    "<td>optional string, comma-separated tags for searching.</td>\n",
    "</tr>\n",
    "<tr class=\"row-even\"><td>thumbnail</td>\n",
    "<td>optional string, either a path or URL to an image. \n",
    "Image can be PNG, GIF, JPEG, and max size 1 MB.</td>\n",
    "</tr>\n",
    "<tr class=\"row-odd\"><td>fullname</td>\n",
    "<td>optional string, name of the user, only for built-in users.</td>\n",
    "</tr>\n",
    "<tr class=\"row-even\"><td>email</td>\n",
    "<td>optional string, email address, only for built-in users.</td>\n",
    "</tr>\n",
    "<tr class=\"row-odd\"><td>culture</td>\n",
    "<td>optional string, two-letter language code, fr for example.</td>\n",
    "</tr>\n",
    "<tr class=\"row-even\"><td>region</td>\n",
    "<td>optional string, two-letter country code, FR for example.</td>\n",
    "</tr>\n",
    "</tbody>\n",
    "</table>\n",
    "\n",
    "\n",
    "**Returns:**\ta boolean that indicates success."
   ]
  },
  {
   "cell_type": "markdown",
   "metadata": {
    "collapsed": false
   },
   "source": [
    "<hr>"
   ]
  },
  {
   "cell_type": "markdown",
   "metadata": {},
   "source": [
    "### delete(<i>reassign_to=None</i>)"
   ]
  },
  {
   "cell_type": "markdown",
   "metadata": {
    "collapsed": false
   },
   "source": [
    "Deletes this user from the portal, optionally deleting or reassigning groups and items."
   ]
  },
  {
   "cell_type": "markdown",
   "metadata": {},
   "source": [
    "<div class=\"alert alert-success\">You cannot delete a user in Portal if that user owns groups or items. If you specify someone in the reassign_to argument, the items and groups will be transferred to that user. If that argument is not set, the method will fail if the user has items or groups that need to be reassigned.</div>"
   ]
  },
  {
   "cell_type": "markdown",
   "metadata": {},
   "source": [
    "**Arguments:**\n",
    "<table border=\"1\" class=\"docutils\">\n",
    "<colgroup>\n",
    "<col width=\"22%\">\n",
    "<col width=\"78%\">\n",
    "</colgroup>\n",
    "<tbody valign=\"top\">\n",
    "<tr class=\"row-odd\"><td><strong>Argument</strong></td>\n",
    "<td><strong>Description</strong></td>\n",
    "</tr>\n",
    "<tr class=\"row-even\"><td>reassign_to</td>\n",
    "<td>optional string, new owner of items and groups.</td>\n",
    "</tr>\n",
    "</tbody>\n",
    "</table>\n",
    "\n",
    "**Returns:**\ta boolean that indicates whether the operation is succeeded or failed."
   ]
  },
  {
   "cell_type": "markdown",
   "metadata": {
    "collapsed": false
   },
   "source": [
    "<hr>"
   ]
  },
  {
   "cell_type": "markdown",
   "metadata": {},
   "source": [
    "### get_thumbnail()"
   ]
  },
  {
   "cell_type": "markdown",
   "metadata": {},
   "source": [
    "Returns the bytes that make up the thumbnail for this user.\n",
    "\n",
    "**Arguments:**\n",
    "None.\n",
    "\n",
    "**Returns:**\n",
    "bytes that represent the image.\n",
    "\n",
    "**Example:**\n",
    "<code>\n",
    "response = user.get_thumbnail()\n",
    "f = open(filename, 'wb')\n",
    "f.write(response)\n",
    "</code>"
   ]
  },
  {
   "cell_type": "markdown",
   "metadata": {},
   "source": [
    "<hr>"
   ]
  },
  {
   "cell_type": "markdown",
   "metadata": {},
   "source": [
    "### get_thumbnail_link()"
   ]
  },
  {
   "cell_type": "markdown",
   "metadata": {
    "collapsed": false
   },
   "source": [
    "Returns the URL to the thumbnail image.\n",
    "\n",
    "**Arguments:**\n",
    "None.\n",
    "\n",
    "**Returns:**\n",
    "the URL to the thumbnail image."
   ]
  },
  {
   "cell_type": "markdown",
   "metadata": {},
   "source": [
    "<hr>"
   ]
  },
  {
   "cell_type": "markdown",
   "metadata": {},
   "source": [
    "### reassign_to(<i>target_username</i>)"
   ]
  },
  {
   "cell_type": "markdown",
   "metadata": {
    "collapsed": false
   },
   "source": [
    "Reassigns all of this user’s items and groups to another user.\n",
    "\n",
    "Items are transferred to the target user into a folder named &lt;user&gt;_&lt;folder&gt; where &lt;user&gt; corresponds to the user whose items were moved and &lt;folder&gt; corresponds to the folder that was moved."
   ]
  },
  {
   "cell_type": "markdown",
   "metadata": {},
   "source": [
    "<div class=\"alert alert-success\">This method must be executed as an administrator. This method also cannot be undone. The changes are immediately made and permanent.</div>"
   ]
  },
  {
   "cell_type": "markdown",
   "metadata": {},
   "source": [
    "**Arguments:**\n",
    "<table border=\"1\" class=\"docutils\">\n",
    "<colgroup>\n",
    "<col width=\"21%\">\n",
    "<col width=\"79%\">\n",
    "</colgroup>\n",
    "<tbody valign=\"top\">\n",
    "<tr class=\"row-odd\"><td><strong>Argument</strong></td>\n",
    "<td><strong>Description</strong></td>\n",
    "</tr>\n",
    "<tr class=\"row-even\"><td>target_username</td>\n",
    "<td>required string, the target user who will own items/groups after reassignment.</td>\n",
    "</tr>\n",
    "</tbody>\n",
    "</table>\n",
    "\n",
    "**Returns:**\n",
    "\ta boolean that indicates success."
   ]
  },
  {
   "cell_type": "markdown",
   "metadata": {},
   "source": [
    "<hr>"
   ]
  },
  {
   "cell_type": "markdown",
   "metadata": {},
   "source": [
    "### update_role(<i>role</i>)"
   ]
  },
  {
   "cell_type": "markdown",
   "metadata": {},
   "source": [
    "Updates this user’s role to org_user, org_publisher, org_admin."
   ]
  },
  {
   "cell_type": "markdown",
   "metadata": {},
   "source": [
    "<div class=\"alert alert-success\">There are three types of roles in Portal - user, publisher, and administrator. A user can share items, create maps, create groups, etc. A publisher can do everything a user can do and create hosted services. An administrator can do everything that is possible in Portal.</div>"
   ]
  },
  {
   "cell_type": "markdown",
   "metadata": {},
   "source": [
    "**Arguments:**\n",
    "<table border=\"1\" class=\"docutils\">\n",
    "<colgroup>\n",
    "<col width=\"22%\">\n",
    "<col width=\"78%\">\n",
    "</colgroup>\n",
    "<tbody valign=\"top\">\n",
    "<tr class=\"row-odd\"><td><strong>Argument</strong></td>\n",
    "<td><strong>Description</strong></td>\n",
    "</tr>\n",
    "<tr class=\"row-even\"><td>role</td>\n",
    "<td>required string.  Valid values: org_user, org_publisher, org_admin.</td>\n",
    "</tr>\n",
    "</tbody>\n",
    "</table>\n",
    "\n",
    "**Returns:**\n",
    "\ta boolean that indicates success."
   ]
  }
 ],
 "metadata": {
  "kernelspec": {
   "display_name": "Python 3",
   "language": "python",
   "name": "python3"
  },
  "language_info": {
   "codemirror_mode": {
    "name": "ipython",
    "version": 3
   },
   "file_extension": ".py",
   "mimetype": "text/x-python",
   "name": "python",
   "nbconvert_exporter": "python",
   "pygments_lexer": "ipython3",
   "version": "3.5.2"
  }
 },
 "nbformat": 4,
 "nbformat_minor": 0
}
