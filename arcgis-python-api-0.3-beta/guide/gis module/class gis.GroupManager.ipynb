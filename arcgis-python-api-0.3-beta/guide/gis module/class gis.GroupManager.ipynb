{
 "cells": [
  {
   "cell_type": "markdown",
   "metadata": {},
   "source": [
    "## The GroupManager class"
   ]
  },
  {
   "cell_type": "markdown",
   "metadata": {},
   "source": [
    "<hr/>"
   ]
  },
  {
   "cell_type": "markdown",
   "metadata": {},
   "source": [
    "## <b>class gis.GroupManager<b>(<i>gis</i>)"
   ]
  },
  {
   "cell_type": "markdown",
   "metadata": {},
   "source": [
    "Manager class for manipulating GIS groups. This class is not created by users directly. An instance of this class, called ‘groups’, is available as a property of the Gis object. Users call methods on this ‘groups’ object to manipulate (create, get, search...) users."
   ]
  },
  {
   "cell_type": "markdown",
   "metadata": {},
   "source": [
    " <hr>"
   ]
  },
  {
   "cell_type": "markdown",
   "metadata": {
    "collapsed": false
   },
   "source": [
    "### create(<i>title, tags, description=None, snippet=None, access=\"public\", thumbnail=None, is_invitation_only=False, sort_field=\"avgRating\", sort_order=\"desc\", is_view_only=False</i>)"
   ]
  },
  {
   "cell_type": "markdown",
   "metadata": {},
   "source": [
    "Creates a group and returns it if successful."
   ]
  },
  {
   "cell_type": "markdown",
   "metadata": {},
   "source": [
    "**Arguments:**\n",
    "<table border=\"1\" class=\"docutils\">\n",
    "<colgroup>\n",
    "<col width=\"22%\">\n",
    "<col width=\"78%\">\n",
    "</colgroup>\n",
    "<tbody valign=\"top\">\n",
    "<tr class=\"row-odd\"><td><strong>Argument</strong></td>\n",
    "<td><strong>Description</strong></td>\n",
    "</tr>\n",
    "<tr class=\"row-even\"><td>title</td>\n",
    "<td>required string, name of the group.</td>\n",
    "</tr>\n",
    "<tr class=\"row-odd\"><td>tags</td>\n",
    "<td>required string, comma-delimited list of tags or list of tags as strings.</td>\n",
    "</tr>\n",
    "<tr class=\"row-even\"><td>description</td>\n",
    "<td>optional string, describes group in detail.</td>\n",
    "</tr>\n",
    "<tr class=\"row-odd\"><td>snippet</td>\n",
    "<td>optional string, <250 characters summarizes group.</td>\n",
    "</tr>\n",
    "<tr class=\"row-odd\"><td>access</td>\n",
    "<td>optional string, can be private, public, or org.</td>\n",
    "</tr>\n",
    "<tr class=\"row-odd\"><td>thumbnail</td>\n",
    "<td>optional string, URL to group image.\n",
    "Image can be PNG, GIF, JPEG, and max size 1 MB.\n",
    "</td>\n",
    "</tr>\n",
    "<tr class=\"row-odd\"><td>is_invitation_only</td>\n",
    "<td>optional boolean, defines whether users can join by request.</td>\n",
    "</tr>\n",
    "<tr class=\"row-odd\"><td>sort_field</td>\n",
    "<td>optional string, specifies how shared items with the group are sorted.</td>\n",
    "</tr>\n",
    "<tr class=\"row-odd\"><td>sort_order</td>\n",
    "<td>optional string, asc or desc for ascending or descending.</td>\n",
    "</tr>\n",
    "<tr class=\"row-odd\"><td>is_view_only</td>\n",
    "<td>optional boolean, defines whether the group is searchable.</td>\n",
    "</tr>\n",
    "</tbody>\n",
    "</table>\n",
    "\n",
    "\n",
    "**Returns:**\tthe group, if created, else None"
   ]
  },
  {
   "cell_type": "markdown",
   "metadata": {
    "collapsed": false
   },
   "source": [
    "<hr>"
   ]
  },
  {
   "cell_type": "markdown",
   "metadata": {},
   "source": [
    "### get(<i>groupid</i>)"
   ]
  },
  {
   "cell_type": "markdown",
   "metadata": {},
   "source": [
    "Returns the group object having the specified groupid."
   ]
  },
  {
   "cell_type": "markdown",
   "metadata": {},
   "source": [
    "**Arguments:**\n",
    "<table border=\"1\" class=\"docutils\">\n",
    "<colgroup>\n",
    "<col width=\"22%\">\n",
    "<col width=\"78%\">\n",
    "</colgroup>\n",
    "<tbody valign=\"top\">\n",
    "<tr class=\"row-odd\"><td><strong>Argument</strong></td>\n",
    "<td><strong>Description</strong></td>\n",
    "</tr>\n",
    "<tr class=\"row-even\"><td>groupid</td>\n",
    "<td>required string, the group identifier.</td>\n",
    "</tr>\n",
    "</tbody>\n",
    "</table>\n",
    "\n",
    "**Returns:**\tNone if the group is not found and returns a group object if the group is found"
   ]
  },
  {
   "cell_type": "markdown",
   "metadata": {
    "collapsed": false
   },
   "source": [
    "<hr>"
   ]
  },
  {
   "cell_type": "markdown",
   "metadata": {},
   "source": [
    "### search(<i>query=\"\", sort_field=\"title\", sort_order=\"asc\", max_groups=1000, outside_org=False<i>)"
   ]
  },
  {
   "cell_type": "markdown",
   "metadata": {
    "collapsed": false
   },
   "source": [
    "Searches for portal groups.\n",
    "\n",
    "Returns a list of groups matching the specified query"
   ]
  },
  {
   "cell_type": "markdown",
   "metadata": {},
   "source": [
    "<div class=\"alert alert-success\">\n",
    "A few things that will be helpful to know.\n",
    "<p>\n",
    "<ul><li>\n",
    "The query syntax has quite a few features that can’t be adequately described here. The query syntax is available in ArcGIS help. A short version of that URL is http://bitly.com/1fJ8q31.\n",
    "</li><li>\n",
    "Searching without specifying a query parameter returns a list of all groups in your organization.\n",
    "</li><li>\n",
    "Most of the time when searching groups you want to search within your organization in ArcGIS Online or within your Portal. As a convenience, the method automatically appends your organization id to the query by default. If you don't want the API to append to your query, set outside_org to True.\n",
    "</li></ul>\n",
    "</div>"
   ]
  },
  {
   "cell_type": "markdown",
   "metadata": {},
   "source": [
    "**Arguments:**\n",
    "<table border=\"1\" class=\"docutils\">\n",
    "<colgroup>\n",
    "<col width=\"21%\">\n",
    "<col width=\"79%\">\n",
    "</colgroup>\n",
    "<tbody valign=\"top\">\n",
    "<tr class=\"row-odd\"><td><strong>Argument</strong></td>\n",
    "<td><strong>Description</strong></td>\n",
    "</tr>\n",
    "\n",
    "<tr class=\"row-even\"><td>query</td>\n",
    "<td>optional query string on Portal, required for Online.  If not specified, all groups will be searched. See notes.</td>\n",
    "</tr>\n",
    "\n",
    "<tr class=\"row-even\"><td>sort_field</td>\n",
    "<td>optional string, valid values can be title, owner, or created.</td>\n",
    "</tr>\n",
    "\n",
    "<tr class=\"row-even\"><td>sort_order</td>\n",
    "<td>optional string, valid values are asc or desc.</td>\n",
    "</tr>\n",
    "\n",
    "<tr class=\"row-even\"><td>max_groups</td>\n",
    "<td>optional int, maximum number of groups returned.</td>\n",
    "</tr>\n",
    "\n",
    "<tr class=\"row-even\"><td>outside_org</td>\n",
    "<td>optional boolean, Default is False.  Controls whether to search outside your org.</td>\n",
    "</tr>\n",
    "\n",
    "</tbody>\n",
    "</table>\n",
    "\n",
    "**Returns:**\n",
    "\tReturns a list of groups matching the specified query"
   ]
  },
  {
   "cell_type": "markdown",
   "metadata": {},
   "source": [
    "<hr>"
   ]
  }
 ],
 "metadata": {
  "kernelspec": {
   "display_name": "Python 3",
   "language": "python",
   "name": "python3"
  },
  "language_info": {
   "codemirror_mode": {
    "name": "ipython",
    "version": 3
   },
   "file_extension": ".py",
   "mimetype": "text/x-python",
   "name": "python",
   "nbconvert_exporter": "python",
   "pygments_lexer": "ipython3",
   "version": "3.5.2"
  }
 },
 "nbformat": 4,
 "nbformat_minor": 0
}
