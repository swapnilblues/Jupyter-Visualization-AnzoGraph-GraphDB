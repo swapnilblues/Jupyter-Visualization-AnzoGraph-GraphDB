{
 "cells": [
  {
   "cell_type": "markdown",
   "metadata": {},
   "source": [
    "## The Tools class"
   ]
  },
  {
   "cell_type": "markdown",
   "metadata": {},
   "source": [
    "<hr/>"
   ]
  },
  {
   "cell_type": "markdown",
   "metadata": {},
   "source": [
    "## class gis.Tools(<i>gis</i>)"
   ]
  },
  {
   "cell_type": "markdown",
   "metadata": {},
   "source": [
    "Bases: builtins.dict\n",
    "\n",
    "Collection of GIS tools. This class holds references to the helper services and tools available in the GIS. This class is not created by users directly. An instance of this class, called ‘tools’, is available as a property of the GIS object. Users access the GIS tools, such as the geocoders, spatial analysis tools, GeoAnalytics tools, raster analysis tools etc through the gis.tools object.</p>\n",
    "\n",
    "Example: We create a map widget and center it at the location of the Esri User Conference, San Diego, CA.\n"
   ]
  },
  {
   "cell_type": "code",
   "execution_count": 1,
   "metadata": {
    "collapsed": false
   },
   "outputs": [],
   "source": [
    "from arcgis.gis import GIS\n",
    "\n",
    "gis = GIS()\n",
    "map = gis.map('San Diego, CA', 12)\n",
    "map"
   ]
  },
  {
   "cell_type": "markdown",
   "metadata": {},
   "source": [
    "We can use the geocoder tool to re-center the map on Palm Springs - the location of Esri's Dev Summit"
   ]
  },
  {
   "cell_type": "code",
   "execution_count": 2,
   "metadata": {
    "collapsed": false
   },
   "outputs": [],
   "source": [
    "map.center = gis.tools.geocoders[0].find_best_match('Palm Springs, CA')"
   ]
  },
  {
   "cell_type": "markdown",
   "metadata": {},
   "source": [
    "<hr>"
   ]
  },
  {
   "cell_type": "markdown",
   "metadata": {
    "collapsed": false
   },
   "source": [
    "These GIS tools are available as properties of the gis.tools object:\n",
    "\n",
    "## featureanalysis\n",
    "  The portal’s spatial analysis tools, if available and configured\n",
    "\n",
    "## geoanalytics\n",
    "  The portal’s geoanalytics tools, if available and configured\n",
    "\n",
    "## geocoders\n",
    "  The portal's geocoder, if available and configured.\n",
    "\n",
    "## geometry\n",
    "  The portal’s geometry tools, if available and configured.\n",
    "\n",
    "## rasteranalysis\n",
    "  The portal’s raster analysis tools, if available and configured."
   ]
  }
 ],
 "metadata": {
  "kernelspec": {
   "display_name": "Python 3",
   "language": "python",
   "name": "python3"
  },
  "language_info": {
   "codemirror_mode": {
    "name": "ipython",
    "version": 3
   },
   "file_extension": ".py",
   "mimetype": "text/x-python",
   "name": "python",
   "nbconvert_exporter": "python",
   "pygments_lexer": "ipython3",
   "version": "3.5.2"
  }
 },
 "nbformat": 4,
 "nbformat_minor": 0
}
