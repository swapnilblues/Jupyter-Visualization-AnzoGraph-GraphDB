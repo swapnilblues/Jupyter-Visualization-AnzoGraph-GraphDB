{
 "cells": [
  {
   "cell_type": "markdown",
   "metadata": {},
   "source": [
    "# Authentication schemes\n",
    "\n",
    "The GIS class in the ArcGIS Python API supports several classes of users with varied authentication schemes:\n",
    "* anonymous users\n",
    "* built-in users\n",
    "* users using LDAP, via \n",
    " * Basic authentication \n",
    " * Portal tier authentication\n",
    "* smart card users / PKI authentication using ceritificate and key files\n",
    "* users connected to an ArcGIS Portal using ArcGIS Pro\n",
    "\n",
    "The GIS class supports constructing a GIS object given a url and user credentials to ArcGIS Online or an ArcGIS Portal. User credentials can be passed in using username/password pair, or key_file/cert_file pair (in case of PKI). Supports built-in users, LDAP, PKI and Anonymous access.\n",
    "\n",
    "If no url is provided, ArcGIS Online is used. If username/password or key/cert files are not provided, anonymous access is used. Additionally, the script can leverage the ArcGOS Pro app to login to the portal and their scripts can use whichever Portal is currently active.\n",
    "\n",
    "The examples below demonstrate how to connect using these different authentication schemes:"
   ]
  },
  {
   "cell_type": "markdown",
   "metadata": {},
   "source": [
    "## ArcGIS Online as anonymous user"
   ]
  },
  {
   "cell_type": "code",
   "execution_count": 1,
   "metadata": {
    "collapsed": false
   },
   "outputs": [
    {
     "name": "stdout",
     "output_type": "stream",
     "text": [
      "ArcGIS Online as anonymous user\n",
      "Logged in as anonymous user to ArcGIS Online\n"
     ]
    }
   ],
   "source": [
    "print(\"ArcGIS Online as anonymous user\")    \n",
    "gis = GIS()\n",
    "print(\"Logged in as anonymous user to \" + gis.properties.portalName)"
   ]
  },
  {
   "cell_type": "markdown",
   "metadata": {},
   "source": [
    "## ArcGIS Online using an Organization account"
   ]
  },
  {
   "cell_type": "code",
   "execution_count": 2,
   "metadata": {
    "collapsed": false
   },
   "outputs": [
    {
     "name": "stdout",
     "output_type": "stream",
     "text": [
      "ArcGIS Online Org account\n",
      "Logged in as demo_deldev\n"
     ]
    }
   ],
   "source": [
    "print(\"ArcGIS Online Org account\")    \n",
    "gis = GIS(\"https://www.arcgis.com\", \"demo_deldev\", \"password\")\n",
    "print(\"Logged in as \" + str(gis.properties.user.username))"
   ]
  },
  {
   "cell_type": "markdown",
   "metadata": {},
   "source": [
    "## Portal for ArcGIS as a built in user"
   ]
  },
  {
   "cell_type": "code",
   "execution_count": 3,
   "metadata": {
    "collapsed": false
   },
   "outputs": [
    {
     "name": "stdout",
     "output_type": "stream",
     "text": [
      "Portal for ArcGIS as a built in users\n",
      "Logged in as sharinguser\n"
     ]
    }
   ],
   "source": [
    "print(\"Portal for ArcGIS as a built in user\")\n",
    "gis = GIS(\"https://portalname.domain.com/webcontext\", \"sharinguser\", \"password\")\n",
    "print(\"Logged in as: \" + gis.properties.user.username)"
   ]
  },
  {
   "cell_type": "markdown",
   "metadata": {},
   "source": [
    "## Portal using LDAP via Basic Authentication"
   ]
  },
  {
   "cell_type": "code",
   "execution_count": 4,
   "metadata": {
    "collapsed": false
   },
   "outputs": [
    {
     "name": "stdout",
     "output_type": "stream",
     "text": [
      "\n",
      "\n",
      "Basic Authentication with LDAP\n",
      "Logged in as: amy\n"
     ]
    }
   ],
   "source": [
    "print(\"\\n\\nBasic Authentication with LDAP\")    \n",
    "ldapbasic = GIS(\"https://portalname.domain.com/webcontext\", \"amy\", \"password\")\n",
    "print(\"Logged in as: \" + ldapbasic.properties.user.username)"
   ]
  },
  {
   "cell_type": "markdown",
   "metadata": {},
   "source": [
    "## Portal-tier authentication with LDAP, as an enterprise user"
   ]
  },
  {
   "cell_type": "code",
   "execution_count": 5,
   "metadata": {
    "collapsed": false
   },
   "outputs": [
    {
     "name": "stdout",
     "output_type": "stream",
     "text": [
      "\n",
      "\n",
      "Portal-tier Authentication with LDAP - enterprise user\n",
      "Logged in as: Publisher@AVWORLD\n"
     ]
    }
   ],
   "source": [
    "print(\"\\n\\nPortal-tier Authentication with LDAP - enterprise user\")    \n",
    "gisldap = GIS(\"https://portalname.domain.com/webcontext\", \"avworld\\\\publisher\", \"password\")\n",
    "print(\"Logged in as: \" + gisldap.properties.user.username)"
   ]
  },
  {
   "cell_type": "markdown",
   "metadata": {},
   "source": [
    "## Portal-tier authentication with LDAP, as a builtin user"
   ]
  },
  {
   "cell_type": "code",
   "execution_count": 6,
   "metadata": {
    "collapsed": false
   },
   "outputs": [
    {
     "name": "stdout",
     "output_type": "stream",
     "text": [
      "\n",
      "\n",
      "Portal-tier Authentication with LDAP - builtin user\n",
      "Logged in as: sharing1\n"
     ]
    }
   ],
   "source": [
    "print(\"\\n\\nPortal-tier Authentication with LDAP - builtin user\")    \n",
    "gisldap = GIS(\"https://portalname.domain.com/webcontext\", \"sharing1\", \"password\")\n",
    "print(\"Logged in as: \" + gisldap.properties.user.username)"
   ]
  },
  {
   "cell_type": "markdown",
   "metadata": {},
   "source": [
    "## PKI with key and cert files\n",
    "\n",
    "You can also specify a local certificate and key file to use as client side certificate, when logging into your ArcGIS portal using PKI-based client certificate authentication."
   ]
  },
  {
   "cell_type": "code",
   "execution_count": 7,
   "metadata": {
    "collapsed": false
   },
   "outputs": [
    {
     "name": "stdout",
     "output_type": "stream",
     "text": [
      "\n",
      "\n",
      "PKI with key and cert files\n",
      "Logged in as: rohi3999@AVWORLD\n"
     ]
    }
   ],
   "source": [
    "print(\"\\n\\nPKI with key and cert files\")  \n",
    "gis = GIS(\"https://portalname.domain.com/webcontext\", \n",
    "          key_file=\"C:\\\\path\\\\to\\\\key.pem\",\n",
    "          cert_file=\"C:\\\\path\\\\to\\\\cert.pem\")\n",
    "print(\"Logged in as: \" + gis.properties.user.username)"
   ]
  },
  {
   "cell_type": "markdown",
   "metadata": {},
   "source": [
    "## ArcGIS Pro user connecting to the active portal in the Pro app"
   ]
  },
  {
   "cell_type": "markdown",
   "metadata": {},
   "source": [
    "It is often useful to write scripts that work against the active portal in the ArcGIS Pro app.\n",
    "\n",
    "Using the \"pro\" authentication scheme, scripts can get an instance of the GIS class representing the active portal in ArcGIS Pro without requiring the user to pass their credentials in a second time. In this mode, users can leverage the Pro app to login to the portal and their scripts can use whichever Portal is currently active. This mode can also serve as a bridge for users with advanced authentication scenarios like IWA using NTLM or Kerberos or Smart Card where signing in with credentials may not be possible or desirable.\n",
    "\n",
    "Please note that ArcGIS Pro should be installed and concurrently running when the script is executed, for this mode to work."
   ]
  },
  {
   "cell_type": "code",
   "execution_count": 8,
   "metadata": {
    "collapsed": false
   },
   "outputs": [
    {
     "name": "stdout",
     "output_type": "stream",
     "text": [
      "\n",
      "\n",
      "Active Portal in ArcGIS Pro\n"
     ]
    }
   ],
   "source": [
    "print(\"\\n\\nActive Portal in ArcGIS Pro\")  \n",
    "gis = GIS(\"pro\")"
   ]
  }
 ],
 "metadata": {
  "kernelspec": {
   "display_name": "Python 3",
   "language": "python",
   "name": "python3"
  },
  "language_info": {
   "codemirror_mode": {
    "name": "ipython",
    "version": 3
   },
   "file_extension": ".py",
   "mimetype": "text/x-python",
   "name": "python",
   "nbconvert_exporter": "python",
   "pygments_lexer": "ipython3",
   "version": "3.5.2"
  }
 },
 "nbformat": 4,
 "nbformat_minor": 0
}
