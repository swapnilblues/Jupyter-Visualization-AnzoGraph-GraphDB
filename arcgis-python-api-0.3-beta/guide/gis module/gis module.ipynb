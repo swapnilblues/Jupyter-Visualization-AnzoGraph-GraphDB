{
 "cells": [
  {
   "cell_type": "markdown",
   "metadata": {},
   "source": [
    "# gis module\n",
    "- - -"
   ]
  },
  {
   "cell_type": "markdown",
   "metadata": {},
   "source": [
    "The gis module provides an information model for a GIS hosted within ArcGIS Online or an ArcGIS Portal. This module provides functionality to manage (create, read, update and delete) GIS users, groups, content and datastores and provide access to GIS tools and services. This module is the most important and provides the entry point into the GIS.\n",
    "\n",
    "![gis module](http://esri.github.io/arcgis-python-api/notebooks/nbimages/gis.png \"gis module\")\n",
    "- - -\n",
    "\n",
    "The main classes in the gis module are:\n",
    "* [**GIS**](class gis.GIS.ipynb) : represents the GIS, either ArcGIS Online or an ArcGIS Portal\n",
    "* [**User**](class gis.User.ipynb) : represents a GIS user\n",
    "* [**Group**](class gis.Group.ipynb) : represents a group in the GIS\n",
    "* [**Item**](class gis.Item.ipynb) : represents an Item in the GIS\n",
    "* [**Tools**](class gis.Tools.ipynb) : collection of helper GIS tools and services like geocoder, analysis, geoanalytics, rasters, geometry, ...\n",
    "* Resource manager classes for managing GIS users, groups, content and datastores:\n",
    "  * [**UserManager**](class gis.UserManager.ipynb) : to manage users\n",
    "  * [**GroupManager**](class gis.GroupManager.ipynb) : to manage groups in the GIS \n",
    "  * [**ContentManager**](class gis.ContentManager.ipynb) : to access, add, modify, delete GIS content"
   ]
  }
 ],
 "metadata": {
  "kernelspec": {
   "display_name": "Python 3",
   "language": "python",
   "name": "python3"
  },
  "language_info": {
   "codemirror_mode": {
    "name": "ipython",
    "version": 3
   },
   "file_extension": ".py",
   "mimetype": "text/x-python",
   "name": "python",
   "nbconvert_exporter": "python",
   "pygments_lexer": "ipython3",
   "version": "3.5.1"
  },
  "widgets": {
   "state": {},
   "version": "1.1.2"
  }
 },
 "nbformat": 4,
 "nbformat_minor": 0
}
