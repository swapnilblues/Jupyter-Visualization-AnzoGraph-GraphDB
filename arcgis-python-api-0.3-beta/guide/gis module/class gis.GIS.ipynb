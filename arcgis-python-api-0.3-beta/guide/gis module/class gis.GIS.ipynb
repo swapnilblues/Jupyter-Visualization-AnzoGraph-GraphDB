{
 "cells": [
  {
   "cell_type": "markdown",
   "metadata": {},
   "source": [
    "## The GIS class"
   ]
  },
  {
   "cell_type": "markdown",
   "metadata": {},
   "source": [
    "<hr/>"
   ]
  },
  {
   "cell_type": "markdown",
   "metadata": {},
   "source": [
    "<code><b>class gis.GIS<b>(<i>url=None, username=None, password=None, key_file=None, cert_file=None, verify_cert=True</i>)</code>"
   ]
  },
  {
   "cell_type": "markdown",
   "metadata": {},
   "source": [
    "Constructs a GIS object given a url and user credentials to ArcGIS Online \n",
    "        or an ArcGIS Portal. If no url is provided, ArcGIS Online is used. If username\n",
    "        and password are not provided, anonymous access is used.\n",
    "\n",
    "A GIS is representative of ArcGIS Online or an ArcGIS Portal site. The GIS object provides helper objects (as properties) to manage (search, create, retrieve) GIS resources:\n",
    "* **users**\n",
    "* **groups**\n",
    "* **content**\n",
    "* **datastores**\n",
    "* **tools**, including\n",
    "  * geocoders\n",
    "  * featureanalysis\n",
    "  * rasteranalysis\n",
    "  * geoanalytics  \n",
    "  * geometry\n",
    "\n",
    "Additionally, the GIS object has properties as well as methods to display usage statistics and map widgets: \n",
    "* **properties**\n",
    "* **usage()**\n",
    "* **map()**"
   ]
  },
  {
   "cell_type": "code",
   "execution_count": 1,
   "metadata": {
    "collapsed": false,
    "scrolled": true
   },
   "outputs": [],
   "source": [
    "from arcgis.gis import GIS\n",
    "\n",
    "# Example: connect to ArcGIS Online as an anonymous user \n",
    "gis = GIS()"
   ]
  },
  {
   "cell_type": "markdown",
   "metadata": {},
   "source": [
    "## map(<i>location=None, zoomlevel=None</i>)"
   ]
  },
  {
   "cell_type": "markdown",
   "metadata": {},
   "source": [
    "Creates a map widget centered at the location (Address) with the specified zoom-level"
   ]
  },
  {
   "cell_type": "code",
   "execution_count": 2,
   "metadata": {
    "collapsed": false
   },
   "outputs": [],
   "source": [
    "# Example: create a map centered on Redlands\n",
    "map = gis.map('Redlands, CA', 12)\n",
    "map"
   ]
  },
  {
   "cell_type": "markdown",
   "metadata": {},
   "source": [
    "![map](http://esri.github.io/arcgis-python-api/notebooks/nbimages/guide_gis_GIS_01.PNG)"
   ]
  },
  {
   "cell_type": "markdown",
   "metadata": {},
   "source": [
    "<hr>"
   ]
  },
  {
   "cell_type": "markdown",
   "metadata": {},
   "source": [
    "### users"
   ]
  },
  {
   "cell_type": "markdown",
   "metadata": {},
   "source": [
    "The resource manager for GIS users"
   ]
  },
  {
   "cell_type": "code",
   "execution_count": 3,
   "metadata": {
    "collapsed": false
   },
   "outputs": [
    {
     "data": {
      "text/html": [
       "<div class=\"9item_container\" style=\"height: auto; overflow: hidden; border: 1px solid #cfcfcf; border-radius: 2px; background: #f6fafa; line-height: 1.21429em; padding: 10px;\">\n",
       "                    <div class=\"item_left\" style=\"width: 210px; float: left;\">\n",
       "                       <a href='http://www.arcgis.com/home/user.html?user=jes0070' target='_blank'>\n",
       "                        <img src='http://www.arcgis.com/home/js/arcgisonline/css/images/no-user-thumb.jpg' class=\"itemThumbnail\">\n",
       "                       </a>\n",
       "                    </div>\n",
       "\n",
       "                    <div class=\"item_right\" style=\"float: none; width: auto; overflow: hidden;\">\n",
       "                        <a href='http://www.arcgis.com/home/user.html?user=jes0070' target='_blank'><b>JOHN SMITH</b>\n",
       "                        </a>\n",
       "                        <br/><br/><b>Bio</b>: Real Estate Services @ Reconassist and 4deeds.com SALESFORCE.COM (SFDC), GPS, GIS, VA. Beach, VA.   @1JohnSmith\n",
       "                        <br/><b>First Name</b>: JOHN\n",
       "                        <br/><b>Last Name</b>: SMITH\n",
       "                        <br/><b>Username</b>: jes0070\n",
       "                        <br/><b>Joined</b>: November 04, 2011\n",
       "\n",
       "                    </div>\n",
       "                </div>\n",
       "                "
      ],
      "text/plain": [
       "<User username:jes0070>"
      ]
     },
     "execution_count": 3,
     "metadata": {},
     "output_type": "execute_result"
    }
   ],
   "source": [
    "#Example: query a user from the gis\n",
    "gis.users.search('johnsmith')[0]"
   ]
  },
  {
   "cell_type": "markdown",
   "metadata": {},
   "source": [
    "<hr>"
   ]
  },
  {
   "cell_type": "markdown",
   "metadata": {},
   "source": [
    "### groups"
   ]
  },
  {
   "cell_type": "markdown",
   "metadata": {},
   "source": [
    "The resource manager for groups in the GIS"
   ]
  },
  {
   "cell_type": "code",
   "execution_count": 4,
   "metadata": {
    "collapsed": false,
    "scrolled": true
   },
   "outputs": [
    {
     "data": {
      "text/html": [
       "<div class=\"9item_container\" style=\"height: auto; overflow: hidden; border: 1px solid #cfcfcf; border-radius: 2px; background: #f6fafa; line-height: 1.21429em; padding: 10px;\">\n",
       "                    <div class=\"item_left\" style=\"width: 210px; float: left;\">\n",
       "                       <a href='http://www.arcgis.com/home/group.html?id=8f3721913b474c87910c767e717bdc20' target='_blank'>\n",
       "                        <img src='http://www.arcgis.com/sharing/rest/community/groups/8f3721913b474c87910c767e717bdc20/info/C_3A_Installs_Scripts_Python_ALF_Data.gif' class=\"itemThumbnail\">\n",
       "                       </a>\n",
       "                    </div>\n",
       "\n",
       "                    <div class=\"item_right\" style=\"float: none; width: auto; overflow: hidden;\">\n",
       "                        <a href='http://www.arcgis.com/home/group.html?id=8f3721913b474c87910c767e717bdc20' target='_blank'><b>Aggregated Live Feed Community</b>\n",
       "                        </a>\n",
       "                        <br/>\n",
       "                        <br/><b>Summary</b>: A collection of tools, scripts, and methodologies that help ArcGIS users better leverage available data. (expand for more detail)\n",
       "                        <br/><b>Description</b>: <p>Use the components found here to build automated update routines that download content from just about anywhere, process it, and produce a consumable data set that can be used by ArcGIS products.</p><p><img alt='ALF-Lite process diagram' src='https://s3.amazonaws.com/tmLiveFeeds/Images/ALF-Lite_Diagram_v1.1.gif' /></p><ul><li>Written in Python, these routines can run on any OS that supports Python, ArcGIS, and ArcPy.</li><li>Using the ALF-Lite architecture will reduce the demand on Enterprise Resources by leveraging the File Geodatabase.</li><li>Lightweight and simple enough to run on a single User's Desktop, yet powerful enough to scale out to a distributed, multi-tiered environment. Use your Python skills and tailor to your needs!</li><li>The 'Log' files are automatically maintained by the Logger object found in the <a href='http://www.arcgis.com/home/item.html?id=b01b18bbf0e34338b6a2c71609ea1373' target='_blank'>ALFlib</a> library.</li><li>The 'Deployment' logic is integrated into a user-maintained configuration file. It's up to you how to deploy the data. By default, the Feed Routines copy their workspace to a Live folder, ready for consumption.</li><li>The 'Live' FileGDB can be directly consumed by ArcGIS Desktop or published by ArcGIS Server using a Map Service even while the script updates the underlying data. Eliminating the need to re-cycle live services just to refresh a data source!<br /></li><li>To maintain the Live data on a regular interval, schedule a task or cron job to run the Feed Routine as often as needed to keep the data current.</li></ul><p>Here's an example map of live Rain fall intensity (precipitation), NOAA Weather Advisories, and Wind Speed and Direction data all prepared by ALF-Lite routines and published using ArcGIS Server Map Services:</p><p><img alt='ALF-Lite data set example' src='https://s3.amazonaws.com/tmLiveFeeds/Images/ALF-Lite_Example_v1.0.gif' /></p>\n",
       "                        <br/><b>Owner</b>: Esri_Technical_Marketing\n",
       "                        <br/><b>Created</b>: April 10, 2012\n",
       "\n",
       "                    </div>\n",
       "                </div>\n",
       "                "
      ],
      "text/plain": [
       "<Group title:\"Aggregated Live Feed Community\" owner:Esri_Technical_Marketing>"
      ]
     },
     "execution_count": 4,
     "metadata": {},
     "output_type": "execute_result"
    }
   ],
   "source": [
    "gis.groups.search('Python')[0]"
   ]
  },
  {
   "cell_type": "markdown",
   "metadata": {},
   "source": [
    "<hr>"
   ]
  },
  {
   "cell_type": "markdown",
   "metadata": {},
   "source": [
    "### content"
   ]
  },
  {
   "cell_type": "markdown",
   "metadata": {},
   "source": [
    "The resource manager for content within the GIS"
   ]
  },
  {
   "cell_type": "code",
   "execution_count": 5,
   "metadata": {
    "collapsed": false
   },
   "outputs": [
    {
     "data": {
      "text/html": [
       "<div class=\"item_container\" style=\"height: auto; overflow: hidden; border: 1px solid #cfcfcf; border-radius: 2px; background: #f6fafa; line-height: 1.21429em; padding: 10px;\">\n",
       "                    <div class=\"item_left\" style=\"width: 210px; float: left;\">\n",
       "                       <a href='http://www.arcgis.com/home/item.html?id=26f7674a2ad744f3806af0c426531951' target='_blank'>\n",
       "                        <img src='http://www.arcgis.com/sharing/rest//content/items/26f7674a2ad744f3806af0c426531951/info/thumbnail/SDEmergency_portal_Link_toAGO.png' class=\"itemThumbnail\">\n",
       "                       </a>\n",
       "                    </div>\n",
       "\n",
       "                    <div class=\"item_right\"     style=\"float: none; width: auto; overflow: hidden;\">\n",
       "                        <a href='http://www.arcgis.com/home/item.html?id=26f7674a2ad744f3806af0c426531951' target='_blank'><b>County of San Diego Emergency Map (Live)</b>\n",
       "                        </a>\n",
       "                        <br/>Public feed from the County of San Diego Office of Emergency Services and other emergency-related feeds.<img src='http://www.arcgis.com/home/js/jsapi/esri/css/images/item_type_icons/maps16.png' style=\"vertical-align:middle;\">Web Map by oes_services\n",
       "                        <br/>Last Modified: September 30, 2016\n",
       "                        <br/>11 comments, 3,393,079 views\n",
       "                    </div>\n",
       "                </div>\n",
       "                "
      ],
      "text/plain": [
       "<Item title:\"County of San Diego Emergency Map (Live)\" type:Web Map owner:oes_services>"
      ]
     },
     "metadata": {},
     "output_type": "display_data"
    },
    {
     "data": {
      "text/html": [
       "<div class=\"item_container\" style=\"height: auto; overflow: hidden; border: 1px solid #cfcfcf; border-radius: 2px; background: #f6fafa; line-height: 1.21429em; padding: 10px;\">\n",
       "                    <div class=\"item_left\" style=\"width: 210px; float: left;\">\n",
       "                       <a href='http://www.arcgis.com/home/item.html?id=1966ef409a344d089b001df85332608f' target='_blank'>\n",
       "                        <img src='http://www.arcgis.com/sharing/rest//content/items/1966ef409a344d089b001df85332608f/info/thumbnail/thumbnail_san_diego_map.png' class=\"itemThumbnail\">\n",
       "                       </a>\n",
       "                    </div>\n",
       "\n",
       "                    <div class=\"item_right\"     style=\"float: none; width: auto; overflow: hidden;\">\n",
       "                        <a href='http://www.arcgis.com/home/item.html?id=1966ef409a344d089b001df85332608f' target='_blank'><b>San Diego Shortlist</b>\n",
       "                        </a>\n",
       "                        <br/>Rupert Essinger from the Esri Story Maps team shares a selection of cool places to go in this Southern Californian beach city where he lives.<img src='http://www.arcgis.com/home/js/jsapi/esri/css/images/item_type_icons/maps16.png' style=\"vertical-align:middle;\">Web Map by RupertEssinger\n",
       "                        <br/>Last Modified: July 21, 2016\n",
       "                        <br/>22 comments, 296,189 views\n",
       "                    </div>\n",
       "                </div>\n",
       "                "
      ],
      "text/plain": [
       "<Item title:\"San Diego Shortlist\" type:Web Map owner:RupertEssinger>"
      ]
     },
     "metadata": {},
     "output_type": "display_data"
    },
    {
     "data": {
      "text/html": [
       "<div class=\"item_container\" style=\"height: auto; overflow: hidden; border: 1px solid #cfcfcf; border-radius: 2px; background: #f6fafa; line-height: 1.21429em; padding: 10px;\">\n",
       "                    <div class=\"item_left\" style=\"width: 210px; float: left;\">\n",
       "                       <a href='http://www.arcgis.com/home/item.html?id=863f4e7139314101a5cee1d7cde079d9' target='_blank'>\n",
       "                        <img src='http://www.arcgis.com/sharing/rest//content/items/863f4e7139314101a5cee1d7cde079d9/info/thumbnail/example_complete_streets.png' class=\"itemThumbnail\">\n",
       "                       </a>\n",
       "                    </div>\n",
       "\n",
       "                    <div class=\"item_right\"     style=\"float: none; width: auto; overflow: hidden;\">\n",
       "                        <a href='http://www.arcgis.com/home/item.html?id=863f4e7139314101a5cee1d7cde079d9' target='_blank'><b>Example Complete Streets Features 2015</b>\n",
       "                        </a>\n",
       "                        <br/>San Diego serves as a template for showing how Esri CityEngine can be used in transportation planning efforts and to help communities envision different relationships between the city and its streets.<img src='http://www.arcgis.com/home/js/jsapi/esri/css/images/item_type_icons/layers16.png' style=\"vertical-align:middle;\">Desktop Application Template by CityEngine\n",
       "                        <br/>Last Modified: June 21, 2016\n",
       "                        <br/>1 comments, 250,207 views\n",
       "                    </div>\n",
       "                </div>\n",
       "                "
      ],
      "text/plain": [
       "<Item title:\"Example Complete Streets Features 2015\" type:Desktop Application Template owner:CityEngine>"
      ]
     },
     "metadata": {},
     "output_type": "display_data"
    }
   ],
   "source": [
    "#Example: List content related to San Diego\n",
    "from IPython.display import display\n",
    "\n",
    "items = gis.content.search('San Diego', max_items=3)\n",
    "for item in items:\n",
    "    display(item)"
   ]
  },
  {
   "cell_type": "markdown",
   "metadata": {},
   "source": [
    "<hr>"
   ]
  },
  {
   "cell_type": "markdown",
   "metadata": {},
   "source": [
    "### datastores"
   ]
  },
  {
   "cell_type": "markdown",
   "metadata": {},
   "source": [
    "Resource manager for managing GIS data stores. Only available with the portal. Under construction"
   ]
  },
  {
   "cell_type": "markdown",
   "metadata": {},
   "source": [
    "<hr>"
   ]
  },
  {
   "cell_type": "markdown",
   "metadata": {},
   "source": [
    "### tools"
   ]
  },
  {
   "cell_type": "markdown",
   "metadata": {},
   "source": [
    "Collection of helper tools and services available in the GIS"
   ]
  },
  {
   "cell_type": "code",
   "execution_count": 6,
   "metadata": {
    "collapsed": false
   },
   "outputs": [],
   "source": [
    "map2 = gis.map(\"Chicago\", 10)\n",
    "map2"
   ]
  },
  {
   "cell_type": "markdown",
   "metadata": {},
   "source": [
    "![map](http://esri.github.io/arcgis-python-api/notebooks/nbimages/guide_gis_GIS_02.PNG)"
   ]
  },
  {
   "cell_type": "code",
   "execution_count": 7,
   "metadata": {
    "collapsed": false,
    "scrolled": true
   },
   "outputs": [],
   "source": [
    "# User the geocoder tool from the GIS's tool collection to re-center the map above on Times Square\n",
    "map2.center = gis.tools.geocoders[0].find_best_match(\"Times Square, NY\")"
   ]
  },
  {
   "cell_type": "markdown",
   "metadata": {},
   "source": [
    "<hr>"
   ]
  },
  {
   "cell_type": "markdown",
   "metadata": {},
   "source": [
    "### properties"
   ]
  },
  {
   "cell_type": "markdown",
   "metadata": {},
   "source": [
    "The properties of the GIS, accessible as a Python dict"
   ]
  },
  {
   "cell_type": "code",
   "execution_count": 8,
   "metadata": {
    "collapsed": false
   },
   "outputs": [
    {
     "data": {
      "text/plain": [
       "'ArcGIS Online'"
      ]
     },
     "execution_count": 8,
     "metadata": {},
     "output_type": "execute_result"
    }
   ],
   "source": [
    "#Example\n",
    "gis.properties['portalName']"
   ]
  },
  {
   "cell_type": "markdown",
   "metadata": {},
   "source": [
    "<hr>"
   ]
  },
  {
   "cell_type": "markdown",
   "metadata": {},
   "source": [
    "### usage(<i>startTime, endTime, period, vars, etype, stype, groupby, appId=None<i>)"
   ]
  },
  {
   "cell_type": "markdown",
   "metadata": {},
   "source": [
    "Usage statistics for the GIS."
   ]
  },
  {
   "cell_type": "markdown",
   "metadata": {},
   "source": [
    "<hr>"
   ]
  }
 ],
 "metadata": {
  "kernelspec": {
   "display_name": "Python 3",
   "language": "python",
   "name": "python3"
  },
  "language_info": {
   "codemirror_mode": {
    "name": "ipython",
    "version": 3
   },
   "file_extension": ".py",
   "mimetype": "text/x-python",
   "name": "python",
   "nbconvert_exporter": "python",
   "pygments_lexer": "ipython3",
   "version": "3.4.4"
  },
  "widgets": {
   "state": {
    "07e9f1fdb725402795ab6e7a03c84c6a": {
     "views": []
    },
    "0adef0d3fd2540c4a63f9cfa1f8c4c57": {
     "views": []
    }
   },
   "version": "1.1.2"
  }
 },
 "nbformat": 4,
 "nbformat_minor": 0
}
