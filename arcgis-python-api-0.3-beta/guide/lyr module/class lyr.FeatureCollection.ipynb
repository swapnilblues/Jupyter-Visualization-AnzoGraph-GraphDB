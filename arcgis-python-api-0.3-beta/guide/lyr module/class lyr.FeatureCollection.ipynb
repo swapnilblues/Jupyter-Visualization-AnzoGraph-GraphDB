{
 "cells": [
  {
   "cell_type": "markdown",
   "metadata": {},
   "source": [
    "## The FeatureCollection class"
   ]
  },
  {
   "cell_type": "markdown",
   "metadata": {},
   "source": [
    "<hr/>"
   ]
  },
  {
   "cell_type": "markdown",
   "metadata": {},
   "source": [
    "<code><b>class lyr.FeatureCollection<b>(<i>dictdata</i>)</code>"
   ]
  },
  {
   "cell_type": "markdown",
   "metadata": {},
   "source": [
    "Bases: collections.OrderedDict\n",
    "\n",
    "Represents a feature collection. A feature collection is a type of feature layer.  A feature collection consists of a layer definition and feature set. \n",
    "\n",
    "A `featureSet` contains the geometry and attributes of features in a layer. See the [REST API documentation](http://resources.arcgis.com/en/help/arcgis-rest-api%20%20/index.html#/featureSet/02r300000047000000/) for feature set.\n",
    "\n",
    "The `layerDefinition` object defines the attribute schema and drawing information for a layer drawn using client-side graphics. See the [REST API documentation](http://resources.arcgis.com/en/help/arcgis-rest-api%20%20/index.html#/layerDefinition/02r30000004v000000/) for `layerDefinition`\n",
    "\n",
    "The feature collection is represented as a Python dictionary."
   ]
  },
  {
   "cell_type": "markdown",
   "metadata": {},
   "source": [
    "<hr>"
   ]
  }
 ],
 "metadata": {
  "kernelspec": {
   "display_name": "Python 3",
   "language": "python",
   "name": "python3"
  },
  "language_info": {
   "codemirror_mode": {
    "name": "ipython",
    "version": 3
   },
   "file_extension": ".py",
   "mimetype": "text/x-python",
   "name": "python",
   "nbconvert_exporter": "python",
   "pygments_lexer": "ipython3",
   "version": "3.5.2"
  }
 },
 "nbformat": 4,
 "nbformat_minor": 0
}
