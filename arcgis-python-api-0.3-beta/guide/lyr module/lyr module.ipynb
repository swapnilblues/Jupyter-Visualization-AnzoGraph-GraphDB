{
 "cells": [
  {
   "cell_type": "markdown",
   "metadata": {},
   "source": [
    "# lyr module"
   ]
  },
  {
   "cell_type": "markdown",
   "metadata": {},
   "source": [
    "<hr/>"
   ]
  },
  {
   "cell_type": "markdown",
   "metadata": {},
   "source": [
    "The arcgis.lyr module is used for accessing layers exposed from ArcGIS Online or Portal.\n",
    "\n",
    "![arcgis.lyr module class diagram](http://esri.github.io/arcgis-python-api/notebooks/nbimages/guide_lyr_lyrModule_01.PNG)\n",
    "\n",
    "<hr>\n",
    "\n",
    "The main classes in the lyr module are:\n",
    "* [**Layer**](class lyr.Layer.ipynb) : represents a Layer in the GIS\n",
    "* [**ImageLayer**](class lyr.ImageLayer.ipynb) : represents an Image Layer in the GIS\n",
    "* [**FeatureCollection**](class lyr.FeatureCollection.ipynb) : represents a feature collection in the GIS\n",
    "* [**FeatureService**](class lyr.FeatureService.ipynb) : represents a feature service in the GIS"
   ]
  }
 ],
 "metadata": {
  "kernelspec": {
   "display_name": "Python 3",
   "language": "python",
   "name": "python3"
  },
  "language_info": {
   "codemirror_mode": {
    "name": "ipython",
    "version": 3
   },
   "file_extension": ".py",
   "mimetype": "text/x-python",
   "name": "python",
   "nbconvert_exporter": "python",
   "pygments_lexer": "ipython3",
   "version": "3.5.2"
  }
 },
 "nbformat": 4,
 "nbformat_minor": 0
}
