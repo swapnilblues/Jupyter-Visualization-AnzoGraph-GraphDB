{
 "cells": [
  {
   "cell_type": "markdown",
   "metadata": {},
   "source": [
    "# Install using Conda\n",
    "\n",
    "The ArcGIS Python API is distributed via conda. Conda is a popular package and environment manager application that helps you install and update packages such as the ArcGIS Python API and their dependencies. To learn more about conda, see the [getting started guide](http://conda.pydata.org/docs/get-started.html) for conda.\n",
    "\n",
    "## Get Conda\n",
    "Install the latest version of [Anaconda for Python](https://www.continuum.io/downloads) (for Python 3.5), if you don't already have conda. The ArcGIS Python API requires Python 3.\n",
    "\n",
    "If you have installed ArcGIS Pro 1.3, you already have conda and you can use that instead of downloading Anaconda.\n",
    "\n",
    "## Install arcgis package\n",
    "Download and install ArcGIS Python API in your conda environment, using the following command in your teminal. If you are running a Windows OS, you can type this into your command prompt or PowerShell or if you have installed ArcGIS Pro, then into your 'Python Command Prompt' shortcut within the ArcGIS Pro program group in Windows start menu. If you are running a Mac or Linux OS, you can type this into your terminal application.\n",
    "\n",
    "    conda install -c esri arcgis\n",
    "    \n",
    "In the screen shot below, I am typing this command into the Windows command prompt.\n",
    "\n",
    "![install arcgis package](http://esri.github.io/arcgis-python-api/notebooks/nbimages/guide_getstarted_InstallAndSetup_01.PNG)\n",
    "\n",
    "You can now start using the ArcGIS Python API in your Python IDE of choice, or from the Jupyter Notebook environment.\n",
    "\n",
    "### Upgrade from older arcgis package\n",
    "If you are upgrading from an older version of arcgis package, run the following command in your terminal:\n",
    "\n",
    "    conda upgrade -c esri arcgis\n",
    "\n",
    "## Start jupyter notebook\n",
    "To use the API in the Jupyter Notebook environment, use the following command in your terminal:\n",
    "\n",
    "    jupyter notebook\n",
    "\n",
    "Refer to this doc for more help on [how to use the notebook environment](https://developers.arcgis.com/python/guide/Using-the-Jupyter-Notebook-environment/)\n",
    "\n",
    "## Test your install\n",
    "From the Jupyter Notebook dashboard, create a new Python 3 notebook and type these lines of code:\n",
    "\n",
    "    from arcgis import GIS\n",
    "    my_gis = GIS()\n",
    "    my_gis.map()\n",
    "    \n",
    "If the installation went through fine, you should see a map come up as shown below:\n",
    "\n",
    "![test your install](http://esri.github.io/arcgis-python-api/notebooks/nbimages/guide_getstarted_InstallAndSetup_02.PNG)"
   ]
  }
 ],
 "metadata": {
  "kernelspec": {
   "display_name": "Python 3",
   "language": "python",
   "name": "python3"
  },
  "language_info": {
   "codemirror_mode": {
    "name": "ipython",
    "version": 3
   },
   "file_extension": ".py",
   "mimetype": "text/x-python",
   "name": "python",
   "nbconvert_exporter": "python",
   "pygments_lexer": "ipython3",
   "version": "3.5.2"
  }
 },
 "nbformat": 4,
 "nbformat_minor": 0
}
