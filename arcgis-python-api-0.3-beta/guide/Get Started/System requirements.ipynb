{
 "cells": [
  {
   "cell_type": "markdown",
   "metadata": {},
   "source": [
    "# System requirements\n",
    "\n",
    "In order to use version ArcGIS Python API, you need to use Python 3.\n",
    "\n",
    "To use the MapView widget for jupyter notebook, you need Python 3.4 or 3.5, and <a href=\"https://github.com/ipython/ipywidgets\">ipywidgets</a> version 5.1.5 or newer."
   ]
  }
 ],
 "metadata": {
  "kernelspec": {
   "display_name": "Python 3",
   "language": "python",
   "name": "python3"
  },
  "language_info": {
   "codemirror_mode": {
    "name": "ipython",
    "version": 3
   },
   "file_extension": ".py",
   "mimetype": "text/x-python",
   "name": "python",
   "nbconvert_exporter": "python",
   "pygments_lexer": "ipython3",
   "version": "3.4.4"
  }
 },
 "nbformat": 4,
 "nbformat_minor": 0
}
