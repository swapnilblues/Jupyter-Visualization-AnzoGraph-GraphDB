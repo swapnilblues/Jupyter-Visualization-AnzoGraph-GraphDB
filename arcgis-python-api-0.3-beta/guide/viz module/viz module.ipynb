{
 "cells": [
  {
   "cell_type": "markdown",
   "metadata": {},
   "source": [
    "# viz module"
   ]
  },
  {
   "cell_type": "markdown",
   "metadata": {},
   "source": [
    "<hr/>"
   ]
  },
  {
   "cell_type": "markdown",
   "metadata": {},
   "source": [
    "The arcgis.viz (or visualization) module provides components for visualizing GIS content and analysis. It provides components such as the MapView widget, which is a Jupyter Notebook widget for working with maps, as well as WebMap and WebScene components that enable 2D and 3D mapping and visualization.\n",
    "\n",
    "<img src='http://esri.github.io/arcgis-python-api/notebooks/nbimages/viz.png'/>\n",
    "\n",
    "<hr>\n",
    "\n",
    "The main classes in the gis module are:\n",
    "* [**MapView**](class viz.MapView.ipynb) : map widget for IPython Notebook\n",
    "* [**WebMap**](class viz.WebMap.ipynb) : represents an ArcGIS WebMap component for 2D map visualization\n",
    "* [**WebScene**](class viz.WebScene.ipynb) : represents an ArcGIS WebScene component for 3D map visualization"
   ]
  }
 ],
 "metadata": {
  "kernelspec": {
   "display_name": "Python 3",
   "language": "python",
   "name": "python3"
  },
  "language_info": {
   "codemirror_mode": {
    "name": "ipython",
    "version": 3
   },
   "file_extension": ".py",
   "mimetype": "text/x-python",
   "name": "python",
   "nbconvert_exporter": "python",
   "pygments_lexer": "ipython3",
   "version": "3.5.2"
  }
 },
 "nbformat": 4,
 "nbformat_minor": 0
}
