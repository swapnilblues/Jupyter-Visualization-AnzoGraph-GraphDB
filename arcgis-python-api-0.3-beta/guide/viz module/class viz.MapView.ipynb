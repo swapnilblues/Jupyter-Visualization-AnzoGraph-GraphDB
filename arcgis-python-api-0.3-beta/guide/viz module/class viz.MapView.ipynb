{
 "cells": [
  {
   "cell_type": "markdown",
   "metadata": {},
   "source": [
    "## The MapView widget"
   ]
  },
  {
   "cell_type": "markdown",
   "metadata": {},
   "source": [
    "<hr/>"
   ]
  },
  {
   "cell_type": "markdown",
   "metadata": {},
   "source": [
    "<code><b>class viz.MapView<b>(<i>**kwargs</i>)</code>"
   ]
  },
  {
   "cell_type": "markdown",
   "metadata": {},
   "source": [
    "Bases: IPython.html.widgets.widget.DOMWidget\n",
    "\n",
    "Constructs a map widget for visualization of geographic information as well as the results of GIS analysis.\n",
    "\n",
    "**Arguments:**\n",
    "<table border=\"1\" class=\"docutils\">\n",
    "<colgroup>\n",
    "<col width=\"27%\">\n",
    "<col width=\"73%\">\n",
    "</colgroup>\n",
    "<tbody valign=\"top\">\n",
    "<tr class=\"row-odd\"><td><strong>Argument</strong></td>\n",
    "<td><strong>Description</strong></td>\n",
    "</tr>\n",
    "<tr class=\"row-even\"><td>basemap</td>\n",
    "<td>optional string, one of \"streets\", \"satellite\", \"hybrid\", \"topo\", \"gray\", \"dark-gray\", \"oceans\", \"national-geographic\", \"terrain\", \"osm\"</td>\n",
    "</tr>\n",
    "<tr class=\"row-odd\"><td>width</td>\n",
    "<td>optional string, representing width of widget in pixels eg. '900px'</td>\n",
    "</tr>\n",
    "<tr class=\"row-even\"><td>height</td>\n",
    "<td>optional string, representing width of widget in pixels eg. '900px'</td>\n",
    "</tr>\n",
    "<tr class=\"row-odd\"><td>zoom</td>\n",
    "<td>optional int, specifying zoom level</td>\n",
    "</tr>\n",
    "<tr class=\"row-odd\"><td>id</td>\n",
    "<td>optional string, specifying webmap id to be loaded</td>\n",
    "</tr>\n",
    "<tr class=\"row-odd\"><td>center</td>\n",
    "<td>optional list containing latitude and longitude in degrees, eg. [28.7124568, 77.1175102], can also use gis.tools.geocoder.find_best_match('address') to specify center</td>\n",
    "</tr>\n",
    "<tr class=\"row-odd\"><td>start_time</td>\n",
    "<td>optional string, specifying start_time extent of map, eg '1/1/1989 UTC'</td>\n",
    "</tr>\n",
    "<tr class=\"row-odd\"><td>end_time</td>\n",
    "<td>optional string, specifying end_time extent of map, eg '1/1/1989 UTC'</td>\n",
    "</tr>\n",
    "</tbody>\n",
    "</table>\n",
    "\n",
    "These arguments are also available as gettable/settable properties of the widget."
   ]
  },
  {
   "cell_type": "code",
   "execution_count": 1,
   "metadata": {
    "scrolled": true
   },
   "outputs": [],
   "source": [
    "from arcgis.gis import GIS\n",
    "from arcgis.viz import MapView\n",
    "\n",
    "gis = GIS()\n",
    "map = MapView() # constrcut a MapView object without any parameters\n",
    "map"
   ]
  },
  {
   "cell_type": "markdown",
   "metadata": {},
   "source": [
    "![MapView without any parameters](http://esri.github.io/arcgis-python-api/notebooks/nbimages/guide_viz_MapView_01.PNG)"
   ]
  },
  {
   "cell_type": "code",
   "execution_count": 2,
   "metadata": {
    "collapsed": true
   },
   "outputs": [],
   "source": [
    "map.center = gis.tools.geocoders[0].find_best_match('Redlands, CA') # set the center property\n",
    "map.basemap = 'streets'"
   ]
  },
  {
   "cell_type": "markdown",
   "metadata": {},
   "source": [
    "Create a `MapView` object by passing `itemId` of a web map item."
   ]
  },
  {
   "cell_type": "code",
   "execution_count": 3,
   "metadata": {},
   "outputs": [],
   "source": [
    "map2 = MapView(id=\"4778fee6371d4e83a22786029f30c7e1\")\n",
    "map2"
   ]
  },
  {
   "cell_type": "markdown",
   "metadata": {},
   "source": [
    "![MapView created with webmap item id](http://esri.github.io/arcgis-python-api/notebooks/nbimages/guide_viz_MapView_02.PNG)"
   ]
  },
  {
   "cell_type": "markdown",
   "metadata": {},
   "source": [
    "<hr>"
   ]
  },
  {
   "cell_type": "markdown",
   "metadata": {},
   "source": [
    "## add_layer(<i>item, options=None</i>)"
   ]
  },
  {
   "cell_type": "markdown",
   "metadata": {},
   "source": [
    "Adds a layer from the provided item, using the specified options.\n",
    "\n",
    "The first parameter is a portal item that represents a layer from the GIS. It can be an item of type \"Feature Service\", \"Feature Collection\", \"Image Service\", or an instance of FeatureService, FeatureCollection, Layer, ImageLayer or a python dict of the format \n",
    "```\n",
    "{ \n",
    "        \"type\" : item['type'], \n",
    "        \"url\" : item['url'],\n",
    "        \"definition_expression\" : item['definition_expression'],\n",
    "        \"opacity\" : 0.75\"\n",
    "}\n",
    "```\n",
    "                \n",
    "`options` is a python dict containing optional keys. The supported keys are \"opacity\", \"definition_expression\", \"renderer\" (one of ClassedColorRenderer, ClassedSizeRenderer, HeatmapRenderer), \"field_name\" (used with \"renderer\") "
   ]
  },
  {
   "cell_type": "code",
   "execution_count": 4,
   "metadata": {},
   "outputs": [],
   "source": [
    "# Example\n",
    "\n",
    "map = gis.map(\"Seattle, WA\", 6)\n",
    "map"
   ]
  },
  {
   "cell_type": "markdown",
   "metadata": {},
   "source": [
    "<img src=\"http://esri.github.io/arcgis-python-api/notebooks/nbimages/05-smart-wa.png\" />"
   ]
  },
  {
   "cell_type": "code",
   "execution_count": 5,
   "metadata": {
    "collapsed": true
   },
   "outputs": [],
   "source": [
    "map.center = gis.tools.geocoders[0].find_best_match(\"Seattle, WA\", 6)\n",
    "map.add_layer({\"type\":\"FeatureLayer\", \n",
    "               \"url\":\"//sampleserver6.arcgisonline.com/arcgis/rest/services/Census/MapServer/2\",\n",
    "               \"definition_expression\" : \"STATE_NAME='Washington'\",\n",
    "               \"renderer\":\"ClassedColorRenderer\",\n",
    "               \"field_name\":\"POP2007\",\n",
    "               \"opacity\":0.75\n",
    "              })"
   ]
  },
  {
   "cell_type": "markdown",
   "metadata": {},
   "source": [
    "<hr>"
   ]
  },
  {
   "cell_type": "markdown",
   "metadata": {},
   "source": [
    "### draw(<i>shape, popup=None, symbol=None, attributes=None</i>)"
   ]
  },
  {
   "cell_type": "markdown",
   "metadata": {},
   "source": [
    "Draws a shape.\n",
    "\n",
    "**Arguments:**\n",
    "**shape** is one of [“circle”, “downarrow”, “ellipse”, “extent”, “freehandpolygon”, “freehandpolyline”, “leftarrow”, “line”, “multipoint”, “point”, “polygon”, “polyline”, “rectangle”, “rightarrow”, “triangle”, “uparrow”, or geometry dict object]\n",
    "\n",
    "**popup** is a dict containing “title” and “content” as keys that will be displayed when the shape is clicked\n",
    "\n",
    "**symbol** is a symbol specified in json format as described at http://resources.arcgis.com/en/help/arcgis-rest-api/index.html#//02r3000000n5000000 a default symbol is used is one is not specified\n",
    "\n",
    "**attributes** is a dict containing name value pairs of fields and field values associated with the graphic.\n"
   ]
  },
  {
   "cell_type": "code",
   "execution_count": 6,
   "metadata": {},
   "outputs": [],
   "source": [
    "# Example\n",
    "\n",
    "gis = GIS()\n",
    "map = MapView()\n",
    "map"
   ]
  },
  {
   "cell_type": "markdown",
   "metadata": {},
   "source": [
    "<img src=\"http://esri.github.io/arcgis-python-api/notebooks/nbimages/circle.png\" />"
   ]
  },
  {
   "cell_type": "code",
   "execution_count": 7,
   "metadata": {
    "collapsed": true
   },
   "outputs": [],
   "source": [
    "map.draw(\"circle\")"
   ]
  },
  {
   "cell_type": "markdown",
   "metadata": {},
   "source": [
    "<hr>"
   ]
  },
  {
   "cell_type": "markdown",
   "metadata": {},
   "source": [
    "### on_click(<i>callback, remove=False</i>)"
   ]
  },
  {
   "cell_type": "markdown",
   "metadata": {},
   "source": [
    "Register a callback to execute when the map is clicked.\n",
    "\n",
    "The callback will be called with one argument, the clicked widget instance.\n",
    "\n",
    "**remove** : bool (optional), set to true to remove the callback from the list of callbacks."
   ]
  },
  {
   "cell_type": "markdown",
   "metadata": {},
   "source": [
    "<hr>"
   ]
  },
  {
   "cell_type": "markdown",
   "metadata": {},
   "source": [
    "### on_draw_end(<i>callback, remove=False)"
   ]
  },
  {
   "cell_type": "markdown",
   "metadata": {},
   "source": [
    "Register a callback to execute when something is drawn\n",
    "\n",
    "The callback will be called with two arguments, the clicked widget instance, and the geometry drawn.\n",
    "\n",
    "**remove** : bool (optional), set to true to remove the callback from the list of callbacks."
   ]
  },
  {
   "cell_type": "markdown",
   "metadata": {},
   "source": [
    "<hr>"
   ]
  },
  {
   "cell_type": "markdown",
   "metadata": {},
   "source": [
    "### remove_layers()"
   ]
  },
  {
   "cell_type": "markdown",
   "metadata": {},
   "source": [
    "Removes all layers from the map."
   ]
  },
  {
   "cell_type": "markdown",
   "metadata": {},
   "source": [
    "<hr>"
   ]
  },
  {
   "cell_type": "markdown",
   "metadata": {},
   "source": [
    "### set_time_extent(<i>start_time, end_time</i>)"
   ]
  },
  {
   "cell_type": "markdown",
   "metadata": {},
   "source": [
    "Sets the time extent of all layers within the map widget. The `strart_time` and `end_time` parameters are specified as strings in this format: '1/1/1989 UTC'"
   ]
  },
  {
   "cell_type": "markdown",
   "metadata": {},
   "source": [
    "<hr>"
   ]
  }
 ],
 "metadata": {
  "kernelspec": {
   "display_name": "Python 3",
   "language": "python",
   "name": "python3"
  },
  "language_info": {
   "codemirror_mode": {
    "name": "ipython",
    "version": 3
   },
   "file_extension": ".py",
   "mimetype": "text/x-python",
   "name": "python",
   "nbconvert_exporter": "python",
   "pygments_lexer": "ipython3",
   "version": "3.8.3"
  },
  "widgets": {
   "state": {
    "0331891ddaf8469ea0d019010a8fc0ae": {
     "views": [
      {
       "cell_index": 4
      }
     ]
    },
    "47bb31e9fc8a459cb94c9cfcf48e5827": {
     "views": [
      {
       "cell_index": 13
      }
     ]
    },
    "78ad23e58d104c44bce23ab3c8b084c3": {
     "views": [
      {
       "cell_index": 8
      }
     ]
    },
    "9ef133eb9e344b0a845ffee00318c4f6": {
     "views": [
      {
       "cell_index": 19
      }
     ]
    }
   },
   "version": "1.2.0"
  }
 },
 "nbformat": 4,
 "nbformat_minor": 1
}
