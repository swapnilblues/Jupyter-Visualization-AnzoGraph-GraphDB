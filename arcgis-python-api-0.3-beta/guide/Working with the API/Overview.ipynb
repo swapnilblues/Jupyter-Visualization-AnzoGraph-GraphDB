{
 "cells": [
  {
   "cell_type": "markdown",
   "metadata": {},
   "source": [
    "# ArcGIS Python API"
   ]
  },
  {
   "cell_type": "markdown",
   "metadata": {},
   "source": [
    "## Introduction\n",
    "\n",
    "The ArcGIS Python API is a powerful, modern and easy to use Pythonic library to perform GIS visualization and analysis, spatial data management and GIS system administration tasks that can run both in an interactive fashion, as well as using scripts.\n",
    "\n",
    "It enables power users, system administrators and developers to leverage the rich SciPy ecosystem for automating their workflows and performing repetitive tasks using scripts. It integrates well with the IPython Notebook and enables academics, data scientists, GIS analysts and visualization enthusiasts to share geo-enriched literate programs and reproducible research with others."
   ]
  },
  {
   "cell_type": "markdown",
   "metadata": {},
   "source": [
    "## Modules\n",
    "\n",
    "<img src=\"http://esri.github.io/arcgis-python-api/notebooks/nbimages/guide_WorkingWithTheAPI_Overview_01.png\" />\n",
    "\n",
    "The <code><b>arcgis package</b></code> has a modularized design that makes it simple to use and understand. These modules contain classes, functions and types for managing and working with the different elements of the GIS. The main modules in the API are:\n",
    "\n",
    "* <b>gis</b>\n",
    "The <code><b>arcgis.gis</b></code> module provides an information model for GIS hosted within ArcGIS Online or an ArcGIS Portal. This module provides functionality to manage (create, read, update and delete) GIS users, groups and content. This module is the most important and provides the entry point into the GIS.\n",
    "\n",
    "* <b>viz</b>\n",
    "The <code><b>arcgis.viz</b></code> module provides components for visualizing GIS data and analysis. This module provides components such as MapView - an IPython Notebook widget for working with maps, as well as WebMap and WebScene components that enable 2D and 3D mapping and visualization in ArcGIS Online and on ArcGIS Portals.\n",
    "\n",
    "* <b>tools</b>\n",
    "The <code><b>arcgis.tools</b></code> module is used for consuming the GIS functionality exposed from ArcGIS Online \n",
    "or Portal web services. It has implementations for Feature Analysis tools, Big Data tools,\n",
    "Raster Analysis tools, Geoprocessing tools, Geocoders and Geometry utility services. \n",
    "These tools primarily operate on items and layers from the GIS. \n",
    "\n",
    "* <b>lyr</b>\n",
    "The <code><b>arcgis.lyr</b></code> module is used for accessing layers exposed from ArcGIS Online \n",
    "or Portal. This module has implementation for various GIS services and the layers that they expose.\n"
   ]
  }
 ],
 "metadata": {
  "kernelspec": {
   "display_name": "Python 3",
   "language": "python",
   "name": "python3"
  },
  "language_info": {
   "codemirror_mode": {
    "name": "ipython",
    "version": 3
   },
   "file_extension": ".py",
   "mimetype": "text/x-python",
   "name": "python",
   "nbconvert_exporter": "python",
   "pygments_lexer": "ipython3",
   "version": "3.5.2"
  }
 },
 "nbformat": 4,
 "nbformat_minor": 0
}
