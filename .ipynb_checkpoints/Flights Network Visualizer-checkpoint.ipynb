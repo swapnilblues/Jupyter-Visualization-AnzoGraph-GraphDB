{
 "cells": [
  {
   "cell_type": "code",
   "execution_count": 40,
   "metadata": {},
   "outputs": [
    {
     "name": "stdout",
     "output_type": "stream",
     "text": [
      "['@prefix xsd: <http://www', 'w3', 'org/2001/XMLSchema#>', '\\n<https://data', 'semanticarts', 'com/flights/_Airport_BOS> <https://ontologies', 'semanticarts', 'com/flights/hasRouteTo> <https://data', 'semanticarts', 'com/flights/_Airport_JFK> ', '\\n<https://data', 'semanticarts', 'com/flights/_Airport_BOS> <http://www', 'w3', 'org/2000/01/rdf-schema#label> \"BOS\" ', '\\n<https://data', 'semanticarts', 'com/flights/_Airport_JFK> <http://www', 'w3', 'org/2000/01/rdf-schema#label> \"JFK\" ', '\\n<https://ontologies', 'semanticarts', 'com/flights/hasRouteto> <http://www', 'w3', 'org/2000/01/rdf-schema#label> \"hasRouteTo\" ', '\\n<https://data', 'semanticarts', 'com/flights/_Airport_BOS> <https://ontologies', 'semanticarts', 'com/flights/hasRouteTo> <https://data', 'semanticarts', 'com/flights/_Airport_BWI> ', '\\n<https://data', 'semanticarts', 'com/flights/_Airport_BOS> <http://www', 'w3', 'org/2000/01/rdf-schema#label> \"BOS\" ', '\\n<https://data', 'semanticarts', 'com/flights/_Airport_BWI> <http://www', 'w3', 'org/2000/01/rdf-schema#label> \"BWI\" ', '\\n<https://ontologies', 'semanticarts', 'com/flights/hasRouteto> <http://www', 'w3', 'org/2000/01/rdf-schema#label> \"hasRouteTo\" ', '\\n<https://data', 'semanticarts', 'com/flights/_Airport_BOS> <https://ontologies', 'semanticarts', 'com/flights/hasRouteTo> <https://data', 'semanticarts', 'com/flights/_Airport_BUF> ', '\\n<https://data', 'semanticarts', 'com/flights/_Airport_BOS> <http://www', 'w3', 'org/2000/01/rdf-schema#label> \"BOS\" ', '\\n<https://data', 'semanticarts', 'com/flights/_Airport_BUF> <http://www', 'w3', 'org/2000/01/rdf-schema#label> \"BUF\" ', '\\n<https://ontologies', 'semanticarts', 'com/flights/hasRouteto> <http://www', 'w3', 'org/2000/01/rdf-schema#label> \"hasRouteTo\" ', '\\n<https://data', 'semanticarts', 'com/flights/_Airport_BOS> <https://ontologies', 'semanticarts', 'com/flights/hasRouteTo> <https://data', 'semanticarts', 'com/flights/_Airport_ACY> ', '\\n<https://data', 'semanticarts', 'com/flights/_Airport_BOS> <http://www', 'w3', 'org/2000/01/rdf-schema#label> \"BOS\" ', '\\n<https://data', 'semanticarts', 'com/flights/_Airport_ACY> <http://www', 'w3', 'org/2000/01/rdf-schema#label> \"ACY\" ', '\\n<https://ontologies', 'semanticarts', 'com/flights/hasRouteto> <http://www', 'w3', 'org/2000/01/rdf-schema#label> \"hasRouteTo\" ', '\\n<https://data', 'semanticarts', 'com/flights/_Airport_BOS> <https://ontologies', 'semanticarts', 'com/flights/hasRouteTo> <https://data', 'semanticarts', 'com/flights/_Airport_ACK> ', '\\n<https://data', 'semanticarts', 'com/flights/_Airport_BOS> <http://www', 'w3', 'org/2000/01/rdf-schema#label> \"BOS\" ', '\\n<https://data', 'semanticarts', 'com/flights/_Airport_ACK> <http://www', 'w3', 'org/2000/01/rdf-schema#label> \"ACK\" ', '\\n<https://ontologies', 'semanticarts', 'com/flights/hasRouteto> <http://www', 'w3', 'org/2000/01/rdf-schema#label> \"hasRouteTo\" ', '\\n<https://data', 'semanticarts', 'com/flights/_Airport_BOS> <https://ontologies', 'semanticarts', 'com/flights/hasRouteTo> <https://data', 'semanticarts', 'com/flights/_Airport_DCA> ', '\\n<https://data', 'semanticarts', 'com/flights/_Airport_BOS> <http://www', 'w3', 'org/2000/01/rdf-schema#label> \"BOS\" ', '\\n<https://data', 'semanticarts', 'com/flights/_Airport_DCA> <http://www', 'w3', 'org/2000/01/rdf-schema#label> \"DCA\" ', '\\n<https://ontologies', 'semanticarts', 'com/flights/hasRouteto> <http://www', 'w3', 'org/2000/01/rdf-schema#label> \"hasRouteTo\" ', '\\n<https://data', 'semanticarts', 'com/flights/_Airport_BOS> <https://ontologies', 'semanticarts', 'com/flights/hasRouteTo> <https://data', 'semanticarts', 'com/flights/_Airport_EWR> ', '\\n<https://data', 'semanticarts', 'com/flights/_Airport_BOS> <http://www', 'w3', 'org/2000/01/rdf-schema#label> \"BOS\" ', '\\n<https://data', 'semanticarts', 'com/flights/_Airport_EWR> <http://www', 'w3', 'org/2000/01/rdf-schema#label> \"EWR\" ', '\\n<https://ontologies', 'semanticarts', 'com/flights/hasRouteto> <http://www', 'w3', 'org/2000/01/rdf-schema#label> \"hasRouteTo\" ', '\\n<https://data', 'semanticarts', 'com/flights/_Airport_BOS> <https://ontologies', 'semanticarts', 'com/flights/hasRouteTo> <https://data', 'semanticarts', 'com/flights/_Airport_LGA> ', '\\n<https://data', 'semanticarts', 'com/flights/_Airport_BOS> <http://www', 'w3', 'org/2000/01/rdf-schema#label> \"BOS\" ', '\\n<https://data', 'semanticarts', 'com/flights/_Airport_LGA> <http://www', 'w3', 'org/2000/01/rdf-schema#label> \"LGA\" ', '\\n<https://ontologies', 'semanticarts', 'com/flights/hasRouteto> <http://www', 'w3', 'org/2000/01/rdf-schema#label> \"hasRouteTo\" ', '\\n<https://data', 'semanticarts', 'com/flights/_Airport_BOS> <https://ontologies', 'semanticarts', 'com/flights/hasRouteTo> <https://data', 'semanticarts', 'com/flights/_Airport_PHL> ', '\\n<https://data', 'semanticarts', 'com/flights/_Airport_BOS> <http://www', 'w3', 'org/2000/01/rdf-schema#label> \"BOS\" ', '\\n<https://data', 'semanticarts', 'com/flights/_Airport_PHL> <http://www', 'w3', 'org/2000/01/rdf-schema#label> \"PHL\" ', '\\n<https://ontologies', 'semanticarts', 'com/flights/hasRouteto> <http://www', 'w3', 'org/2000/01/rdf-schema#label> \"hasRouteTo\" ', '\\n<https://data', 'semanticarts', 'com/flights/_Airport_BOS> <https://ontologies', 'semanticarts', 'com/flights/hasRouteTo> <https://data', 'semanticarts', 'com/flights/_Airport_MVY> ', '\\n<https://data', 'semanticarts', 'com/flights/_Airport_BOS> <http://www', 'w3', 'org/2000/01/rdf-schema#label> \"BOS\" ', '\\n<https://data', 'semanticarts', 'com/flights/_Airport_MVY> <http://www', 'w3', 'org/2000/01/rdf-schema#label> \"MVY\" ', '\\n<https://ontologies', 'semanticarts', 'com/flights/hasRouteto> <http://www', 'w3', 'org/2000/01/rdf-schema#label> \"hasRouteTo\" ', '\\n']\n"
     ]
    }
   ],
   "source": [
    "# query\n",
    "query = '''PREFIX rdfs: <http://www.w3.org/2000/01/rdf-schema#>\n",
    "prefix : <https://ontologies.semanticarts.com/raw_data#>\n",
    "prefix fl: <https://ontologies.semanticarts.com/flights/>\n",
    "prefix owl: <http://www.w3.org/2002/07/owl#>\n",
    "prefix skos:    <http://www.w3.org/2004/02/skos/core#>\n",
    "CONSTRUCT { \n",
    "  \t?orig fl:hasRouteTo ?dest .\n",
    "  \t?orig rdfs:label ?origCode . \n",
    "  \t?dest rdfs:label ?destCode . \n",
    "  \tfl:hasRouteto rdfs:label \"hasRouteTo\" . \n",
    "}  \n",
    "WHERE { GRAPH <airline_flight_network> {{\n",
    "SELECT \n",
    "?orig ?dest ?origCode ?destCode ?miles \n",
    "    WHERE { \n",
    "        ?orig fl:terminalCode ?origCode .\n",
    "        ?orig fl:hasRouteTo ?dest .\n",
    "        ?dest fl:terminalCode ?destCode .\n",
    "        << ?orig fl:hasRouteTo ?dest >> fl:distanceMiles ?miles .\n",
    "        FILTER (?miles < 400)\n",
    "        FILTER (?origCode = 'BOS')\n",
    "  }\n",
    "      }}}\n",
    "'''\n",
    "flights = run_query('localhost:7070',query)\n",
    "\n",
    "x = flights.decode(\"utf-8\")\n",
    "\n",
    "a = x.split('.')\n",
    "print(a)"
   ]
  },
  {
   "cell_type": "code",
   "execution_count": null,
   "metadata": {},
   "outputs": [],
   "source": []
  }
 ],
 "metadata": {
  "kernelspec": {
   "display_name": "Python 3",
   "language": "python",
   "name": "python3"
  },
  "language_info": {
   "codemirror_mode": {
    "name": "ipython",
    "version": 3
   },
   "file_extension": ".py",
   "mimetype": "text/x-python",
   "name": "python",
   "nbconvert_exporter": "python",
   "pygments_lexer": "ipython3",
   "version": "3.8.3"
  }
 },
 "nbformat": 4,
 "nbformat_minor": 4
}
