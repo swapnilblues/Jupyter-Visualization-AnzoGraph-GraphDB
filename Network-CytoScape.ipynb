{
 "cells": [
  {
   "cell_type": "code",
   "execution_count": null,
   "metadata": {},
   "outputs": [],
   "source": [
    "from jupyter_dash import JupyterDash\n",
    "import dash\n",
    "import dash_cytoscape as cyto\n",
    "import dash_html_components as html\n",
    "\n",
    "app = JupyterDash('YourAppExample')\n",
    "\n",
    "app.layout = html.Div([\n",
    "    cyto.Cytoscape(\n",
    "        id='cytoscape',\n",
    "        elements=[\n",
    "            {'data': {'id': 'one', 'label': 'Node 1'}, 'position': {'x': 50, 'y': 50}},\n",
    "            {'data': {'id': 'two', 'label': 'Node 2'}, 'position': {'x': 200, 'y': 200}},\n",
    "            {'data': {'source': 'one', 'target': 'two','label': 'Node 1 to 2'}}\n",
    "        ],\n",
    "        layout={'name': 'preset'}\n",
    "    )\n",
    "])\n",
    "app.run_server(mode='inline')"
   ]
  },
  {
   "cell_type": "code",
   "execution_count": 1,
   "metadata": {},
   "outputs": [
    {
     "data": {
      "text/plain": [
       "Index(['strain', 'virus', 'gisaid_epi_isl', 'genbank_accession', 'date',\n",
       "       'region', 'country', 'division', 'location', 'region_exposure',\n",
       "       'country_exposure', 'division_exposure', 'segment', 'length', 'host',\n",
       "       'age', 'sex', 'originating_lab', 'submitting_lab', 'authors', 'url',\n",
       "       'title', 'date_submitted'],\n",
       "      dtype='object')"
      ]
     },
     "execution_count": 1,
     "metadata": {},
     "output_type": "execute_result"
    }
   ],
   "source": [
    "import ipycytoscape\n",
    "import pandas as pd\n",
    "df = pd.read_csv(\"https://raw.githubusercontent.com/nextstrain/ncov/fe5a7ed1f92af63d6d1d43d0307e4b2620108aaa/data/metadata.tsv\", sep = '\\t')\n",
    "from ipycytoscape import *\n",
    "df.columns"
   ]
  },
  {
   "cell_type": "code",
   "execution_count": 11,
   "metadata": {},
   "outputs": [
    {
     "data": {
      "application/vnd.jupyter.widget-view+json": {
       "model_id": "ec9ed6ab37f9460b9cbacb800290f948",
       "version_major": 2,
       "version_minor": 0
      },
      "text/plain": [
       "CytoscapeWidget(cytoscape_layout={'name': 'cola'}, cytoscape_style=[{'selector': 'node', 'css': {'background-c…"
      ]
     },
     "metadata": {},
     "output_type": "display_data"
    }
   ],
   "source": [
    "cytoscapeobj = ipycytoscape.CytoscapeWidget()\n",
    "cytoscapeobj.set_tooltip_source('name')\n",
    "cytoscapeobj.graph.add_graph_from_df(df[:30], ['country'], ['age', 'virus'])\n",
    "cytoscapeobj"
   ]
  },
  {
   "cell_type": "code",
   "execution_count": null,
   "metadata": {},
   "outputs": [],
   "source": [
    "import plotly.express as px\n",
    "from jupyter_dash import JupyterDash\n",
    "import dash_core_components as dcc\n",
    "import dash_html_components as html\n",
    "from dash.dependencies import Input, Output\n",
    "# Load Data\n",
    "# df = px.data.tips()\n",
    "# Build App\n",
    "app = JupyterDash(__name__)\n",
    "app.layout = html.Div([\n",
    "    html.H1(\"JupyterDash Demo\"),\n",
    "    dcc.Graph(id='graph'),\n",
    "    html.Label([\n",
    "        \"colorscale\",\n",
    "        dcc.Dropdown(\n",
    "            id='colorscale-dropdown', clearable=False,\n",
    "            value='plasma', options=[\n",
    "                {'label': c, 'value': c}\n",
    "                for c in px.colors.named_colorscales()\n",
    "            ])\n",
    "    ]),\n",
    "])\n",
    "# Define callback to update graph\n",
    "@app.callback(\n",
    "    Output('graph', 'figure'),\n",
    "    [Input(\"colorscale-dropdown\", \"value\")]\n",
    ")\n",
    "def update_figure(colorscale):\n",
    "    return px.scatter(\n",
    "        df, x=\"total_bill\", y=\"tip\", color=\"size\",\n",
    "        color_continuous_scale=colorscale,\n",
    "        render_mode=\"webgl\", title=\"Tips\"\n",
    "    )\n",
    "# Run app and display result inline in the notebook\n",
    "app.run_server(mode='inline')"
   ]
  },
  {
   "cell_type": "code",
   "execution_count": null,
   "metadata": {},
   "outputs": [],
   "source": [
    "import plotly.express as px\n",
    "from jupyter_dash import JupyterDash\n",
    "import dash_core_components as dcc\n",
    "import dash_html_components as html\n",
    "from dash.dependencies import Input, Output\n",
    "# Load Data\n",
    "df = px.data.tips()\n",
    "df"
   ]
  },
  {
   "cell_type": "code",
   "execution_count": 14,
   "metadata": {},
   "outputs": [
    {
     "data": {
      "application/vnd.jupyter.widget-view+json": {
       "model_id": "3e2015a6323a417aa647d892d6c99a03",
       "version_major": 2,
       "version_minor": 0
      },
      "text/plain": [
       "CytoscapeWidget(cytoscape_layout={'name': 'cola', 'nodeSpacing': 5, 'edgeLengthVal': 45, 'animate': True, 'ran…"
      ]
     },
     "metadata": {},
     "output_type": "display_data"
    }
   ],
   "source": [
    "import ipycytoscape\n",
    "import json\n",
    "with open(\"geneData.json\") as fi:\n",
    "    d = json.load(fi)\n",
    "with open(\"geneStyle.json\") as fi:\n",
    "    s = json.load(fi)\n",
    "c = ipycytoscape.CytoscapeWidget(elements=d)\n",
    "c.set_layout(name='cola',\n",
    "            nodeSpacing=5,\n",
    "            edgeLengthVal=45,\n",
    "            animate=True,\n",
    "            randomize=False,\n",
    "            maxSimulationTime=1500)\n",
    "c.set_style(s)\n",
    "c"
   ]
  },
  {
   "cell_type": "code",
   "execution_count": null,
   "metadata": {},
   "outputs": [],
   "source": [
    "import ipycytoscape\n",
    "import json\n",
    "with open(\"concentricData.json\") as fi:\n",
    "    json_file = json.load(fi)\n",
    "    \n",
    "cytoscapeobj = ipycytoscape.CytoscapeWidget()\n",
    "cytoscapeobj.graph.add_graph_from_json(json_file)\n",
    "\n",
    "cytoscapeobj.set_layout(name='concentric')\n",
    "cytoscapeobj.set_style([{\n",
    "                          \"selector\":\"node\",\n",
    "                          \"style\":{\n",
    "                             \"height\":20,\n",
    "                             \"width\":20,\n",
    "                             \"background-color\":\"#30c9bc\"\n",
    "                          }\n",
    "                       },\n",
    "                       {\n",
    "                          \"selector\":\"edge\",\n",
    "                          \"style\":{\n",
    "                             \"curve-style\":\"haystack\",\n",
    "                             \"haystack-radius\":0,\n",
    "                             \"width\":5,\n",
    "                             \"opacity\":0.5,\n",
    "                             \"line-color\":\"#a8eae5\"\n",
    "                          }\n",
    "                       }])\n",
    "cytoscapeobj"
   ]
  },
  {
   "cell_type": "code",
   "execution_count": null,
   "metadata": {},
   "outputs": [],
   "source": []
  }
 ],
 "metadata": {
  "kernelspec": {
   "display_name": "Python 3",
   "language": "python",
   "name": "python3"
  },
  "language_info": {
   "codemirror_mode": {
    "name": "ipython",
    "version": 3
   },
   "file_extension": ".py",
   "mimetype": "text/x-python",
   "name": "python",
   "nbconvert_exporter": "python",
   "pygments_lexer": "ipython3",
   "version": "3.8.3"
  }
 },
 "nbformat": 4,
 "nbformat_minor": 4
}
